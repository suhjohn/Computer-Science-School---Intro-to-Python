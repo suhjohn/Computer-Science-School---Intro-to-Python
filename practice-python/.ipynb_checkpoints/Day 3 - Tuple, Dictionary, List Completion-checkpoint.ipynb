{
 "cells": [
  {
   "cell_type": "code",
   "execution_count": 63,
   "metadata": {},
   "outputs": [
    {
     "name": "stdout",
     "output_type": "stream",
     "text": [
      "two nums with space: 1 60\n",
      "   1      60 keep\n",
      "60\n"
     ]
    }
   ],
   "source": [
    "numbers = str(input(\"two nums with space: \")).split()\n",
    "\n",
    "result = 0\n",
    "num1 = int(numbers[0])\n",
    "num2 = int(numbers[1])\n",
    "\n",
    "while num1 >= 1:\n",
    "    if num1 % 2 == 0:\n",
    "        print(\"%4d %7d struck\" % (num1, num2))\n",
    "    else:\n",
    "        print(\"%4d %7d keep\" % (num1, num2))\n",
    "        result += num2\n",
    "    num1 = num1 // 2\n",
    "    num2 = num2 * 2\n",
    "print (result)\n",
    "\n",
    "    \n",
    "\n",
    "#Double the number in the first column, and halve the number in the second column.\n",
    "\n",
    "#If the number in the second column is even, cross out that entire row.\n",
    "\n",
    "#Keep doubling, halving, and crossing out until the number in the second column is 1.\n",
    "\n",
    "#Add up the remaining numbers in the first column."
   ]
  },
  {
   "cell_type": "code",
   "execution_count": 60,
   "metadata": {},
   "outputs": [
    {
     "data": {
      "text/plain": [
       "('f', 'a', 's', 't', 'c', 'a', 'm', 'p', 'u', 's')"
      ]
     },
     "execution_count": 60,
     "metadata": {},
     "output_type": "execute_result"
    }
   ],
   "source": [
    "facamp = 'fastcampus'\n",
    "tuple_facamp = tuple(\",\".join(facamp).split(\",\"))\n",
    "tuple_facamp"
   ]
  },
  {
   "cell_type": "code",
   "execution_count": 22,
   "metadata": {},
   "outputs": [
    {
     "data": {
      "text/plain": [
       "('f',\n",
       " ',',\n",
       " 'a',\n",
       " ',',\n",
       " 's',\n",
       " ',',\n",
       " 't',\n",
       " ',',\n",
       " 'c',\n",
       " ',',\n",
       " 'a',\n",
       " ',',\n",
       " 'm',\n",
       " ',',\n",
       " 'p',\n",
       " ',',\n",
       " 'u',\n",
       " ',',\n",
       " 's')"
      ]
     },
     "execution_count": 22,
     "metadata": {},
     "output_type": "execute_result"
    }
   ],
   "source": [
    "facamp = 'fastcampus'\n",
    "tuple(\",\".join(facamp))\n"
   ]
  },
  {
   "cell_type": "code",
   "execution_count": 93,
   "metadata": {},
   "outputs": [
    {
     "name": "stdout",
     "output_type": "stream",
     "text": [
      "95\n",
      "dict_keys(['korean', 'math', 'science', 'history'])\n",
      "dict_values([95, 100, [80, 70, 90, 60], 'history'])\n",
      "dict_items([('korean', 95), ('math', 100), ('science', [80, 70, 90, 60]), ('history', 'history')])\n",
      "dict_items([('korean', 95), ('math', 100), ('science', [80, 70, 90, 60])])\n"
     ]
    }
   ],
   "source": [
    "dict1 = {'korean': 95, \n",
    "         'math' : 100, \n",
    "         'science' : [80, 70, 90, 60]}\n",
    "dict1['history'] = 'history'\n",
    "print(dict1['korean'])\n",
    "print(dict1.keys())\n",
    "print(dict1.values())\n",
    "print(dict1.items())\n",
    "\n",
    "del dict1['history']\n",
    "print(dict1.items())"
   ]
  },
  {
   "cell_type": "code",
   "execution_count": 94,
   "metadata": {},
   "outputs": [
    {
     "data": {
      "text/plain": [
       "dict_keys(['korean', 'math', 'science'])"
      ]
     },
     "execution_count": 94,
     "metadata": {},
     "output_type": "execute_result"
    }
   ],
   "source": [
    "dict1.keys()"
   ]
  },
  {
   "cell_type": "code",
   "execution_count": 95,
   "metadata": {},
   "outputs": [
    {
     "data": {
      "text/plain": [
       "['korean', 'math', 'science']"
      ]
     },
     "execution_count": 95,
     "metadata": {},
     "output_type": "execute_result"
    }
   ],
   "source": [
    "list(dict1.keys())"
   ]
  },
  {
   "cell_type": "code",
   "execution_count": 96,
   "metadata": {},
   "outputs": [
    {
     "data": {
      "text/plain": [
       "('korean', 'math', 'science')"
      ]
     },
     "execution_count": 96,
     "metadata": {},
     "output_type": "execute_result"
    }
   ],
   "source": [
    "tuple(dict1.keys())"
   ]
  },
  {
   "cell_type": "code",
   "execution_count": 97,
   "metadata": {},
   "outputs": [
    {
     "data": {
      "text/plain": [
       "['korean', 'math', 'science']"
      ]
     },
     "execution_count": 97,
     "metadata": {},
     "output_type": "execute_result"
    }
   ],
   "source": [
    "list(dict1.keys())"
   ]
  },
  {
   "cell_type": "code",
   "execution_count": 98,
   "metadata": {},
   "outputs": [
    {
     "ename": "NameError",
     "evalue": "name 'dic1' is not defined",
     "output_type": "error",
     "traceback": [
      "\u001b[0;31m---------------------------------------------------------------------------\u001b[0m",
      "\u001b[0;31mNameError\u001b[0m                                 Traceback (most recent call last)",
      "\u001b[0;32m<ipython-input-98-ff74769893d7>\u001b[0m in \u001b[0;36m<module>\u001b[0;34m()\u001b[0m\n\u001b[0;32m----> 1\u001b[0;31m \u001b[0mdic1\u001b[0m\u001b[0;34m.\u001b[0m\u001b[0mvalues\u001b[0m\u001b[0;34m(\u001b[0m\u001b[0;34m)\u001b[0m\u001b[0;34m\u001b[0m\u001b[0m\n\u001b[0m",
      "\u001b[0;31mNameError\u001b[0m: name 'dic1' is not defined"
     ]
    }
   ],
   "source": [
    "dic1.values()"
   ]
  },
  {
   "cell_type": "code",
   "execution_count": 99,
   "metadata": {},
   "outputs": [
    {
     "data": {
      "text/plain": [
       "dict_values([95, 100, [80, 70, 90, 60]])"
      ]
     },
     "execution_count": 99,
     "metadata": {},
     "output_type": "execute_result"
    }
   ],
   "source": [
    "dict1.values()"
   ]
  },
  {
   "cell_type": "code",
   "execution_count": 103,
   "metadata": {},
   "outputs": [
    {
     "data": {
      "text/plain": [
       "[('korean', 95), ('math', 100), ('science', [80, 70, 90, 60])]"
      ]
     },
     "execution_count": 103,
     "metadata": {},
     "output_type": "execute_result"
    }
   ],
   "source": [
    "list(dict1.items())"
   ]
  },
  {
   "cell_type": "code",
   "execution_count": 105,
   "metadata": {},
   "outputs": [
    {
     "data": {
      "text/plain": [
       "('math', 100)"
      ]
     },
     "execution_count": 105,
     "metadata": {},
     "output_type": "execute_result"
    }
   ],
   "source": [
    "list(dict1.items())."
   ]
  },
  {
   "cell_type": "code",
   "execution_count": 141,
   "metadata": {},
   "outputs": [
    {
     "name": "stdout",
     "output_type": "stream",
     "text": [
      "set A : {'u', 'f', 'a', 'c', 'm', 't', 's', 'p'}\n",
      "set B : {'o', 'y', 'h', 't', 'n', 'p'}\n",
      "A | B : {'o', 'u', 'f', 'a', 'y', 'c', 'h', 'm', 't', 'n', 's', 'p'}\n",
      "A & B : {'t', 'p'}\n",
      "A - B : {'u', 'f', 'a', 'c', 'm', 's'}\n",
      "A ^ B : {'y', 'f', 'm', 's', 'o', 'u', 'a', 'c', 'h', 'n'}\n"
     ]
    }
   ],
   "source": [
    "A = set('fastcampus')\n",
    "B = set('python')\n",
    "print (\"set A :\", A)\n",
    "print (\"set B :\", B)\n",
    "print (\"A | B :\", A | B)\n",
    "print (\"A & B :\", A & B)\n",
    "print (\"A - B :\", A - B)\n",
    "print (\"A ^ B :\", A ^ B)"
   ]
  },
  {
   "cell_type": "code",
   "execution_count": 128,
   "metadata": {},
   "outputs": [
    {
     "data": {
      "text/plain": [
       "True"
      ]
     },
     "execution_count": 128,
     "metadata": {},
     "output_type": "execute_result"
    }
   ],
   "source": [
    "ppap = {'pen', 'pineapple', 'apple', 'pen'}\n",
    "'apple' in ppap"
   ]
  },
  {
   "cell_type": "code",
   "execution_count": 170,
   "metadata": {},
   "outputs": [
    {
     "data": {
      "text/plain": [
       "[4, 8]"
      ]
     },
     "execution_count": 170,
     "metadata": {},
     "output_type": "execute_result"
    }
   ],
   "source": [
    "old_list = [1,2,3,4,5]\n",
    "\n",
    "doubled_list = []\n",
    "for i in old_list:\n",
    "    if i % 2 == 0:\n",
    "        doubled_list.append(i * 2)\n",
    "        \n",
    "doubled_list"
   ]
  },
  {
   "cell_type": "code",
   "execution_count": 174,
   "metadata": {},
   "outputs": [
    {
     "ename": "SyntaxError",
     "evalue": "invalid syntax (<ipython-input-174-30fefad09320>, line 2)",
     "output_type": "error",
     "traceback": [
      "\u001b[0;36m  File \u001b[0;32m\"<ipython-input-174-30fefad09320>\"\u001b[0;36m, line \u001b[0;32m2\u001b[0m\n\u001b[0;31m    doubled_list = [for x in old_list X * 2 if x % 2 == 0]\u001b[0m\n\u001b[0m                      ^\u001b[0m\n\u001b[0;31mSyntaxError\u001b[0m\u001b[0;31m:\u001b[0m invalid syntax\n"
     ]
    }
   ],
   "source": [
    "old_list = [1,2,3,4,5]\n",
    "\n",
    "doubled_list = [x * 2 for x in old_list if x % 2 == 0]\n",
    "\n",
    "doubled_list"
   ]
  },
  {
   "cell_type": "code",
   "execution_count": 185,
   "metadata": {},
   "outputs": [
    {
     "data": {
      "text/plain": [
       "[1,\n",
       " 2,\n",
       " 'Fizz',\n",
       " 4,\n",
       " 'Buzz',\n",
       " 'Fizz',\n",
       " 7,\n",
       " 8,\n",
       " 'Fizz',\n",
       " 'Buzz',\n",
       " 11,\n",
       " 'Fizz',\n",
       " 13,\n",
       " 14,\n",
       " 'FizzBuzz',\n",
       " 16,\n",
       " 17,\n",
       " 'Fizz',\n",
       " 19,\n",
       " 'Buzz',\n",
       " 'Fizz',\n",
       " 22,\n",
       " 23,\n",
       " 'Fizz',\n",
       " 'Buzz',\n",
       " 26,\n",
       " 'Fizz',\n",
       " 28,\n",
       " 29,\n",
       " 'FizzBuzz',\n",
       " 31,\n",
       " 32,\n",
       " 'Fizz',\n",
       " 34,\n",
       " 'Buzz',\n",
       " 'Fizz',\n",
       " 37,\n",
       " 38,\n",
       " 'Fizz',\n",
       " 'Buzz',\n",
       " 41,\n",
       " 'Fizz',\n",
       " 43,\n",
       " 44,\n",
       " 'FizzBuzz',\n",
       " 46,\n",
       " 47,\n",
       " 'Fizz',\n",
       " 49,\n",
       " 'Buzz',\n",
       " 'Fizz',\n",
       " 52,\n",
       " 53,\n",
       " 'Fizz',\n",
       " 'Buzz',\n",
       " 56,\n",
       " 'Fizz',\n",
       " 58,\n",
       " 59,\n",
       " 'FizzBuzz',\n",
       " 61,\n",
       " 62,\n",
       " 'Fizz',\n",
       " 64,\n",
       " 'Buzz',\n",
       " 'Fizz',\n",
       " 67,\n",
       " 68,\n",
       " 'Fizz',\n",
       " 'Buzz',\n",
       " 71,\n",
       " 'Fizz',\n",
       " 73,\n",
       " 74,\n",
       " 'FizzBuzz',\n",
       " 76,\n",
       " 77,\n",
       " 'Fizz',\n",
       " 79,\n",
       " 'Buzz',\n",
       " 'Fizz',\n",
       " 82,\n",
       " 83,\n",
       " 'Fizz',\n",
       " 'Buzz',\n",
       " 86,\n",
       " 'Fizz',\n",
       " 88,\n",
       " 89,\n",
       " 'FizzBuzz',\n",
       " 91,\n",
       " 92,\n",
       " 'Fizz',\n",
       " 94,\n",
       " 'Buzz',\n",
       " 'Fizz',\n",
       " 97,\n",
       " 98,\n",
       " 'Fizz',\n",
       " 'Buzz']"
      ]
     },
     "execution_count": 185,
     "metadata": {},
     "output_type": "execute_result"
    }
   ],
   "source": [
    "\n",
    "original_list = []\n",
    "for i in range(1, 100+1):\n",
    "    original_list.append(i)\n",
    "        \n",
    "Fizzbuzz_list = [\"Fizz\"*(i % 3 == 0) + \"Buzz\"*(i % 5 == 0) or i for i in original_list]\n",
    "Fizzbuzz_list"
   ]
  },
  {
   "cell_type": "code",
   "execution_count": 176,
   "metadata": {},
   "outputs": [
    {
     "data": {
      "text/plain": [
       "[1, 2, 3, 4, 5, 6, 7, 8, 9, 10]"
      ]
     },
     "execution_count": 176,
     "metadata": {},
     "output_type": "execute_result"
    }
   ],
   "source": [
    "original_list = []\n",
    "for i in range(1, 10+1):\n",
    "    original_list.append(i)\n",
    "    \n",
    "original_list"
   ]
  },
  {
   "cell_type": "code",
   "execution_count": null,
   "metadata": {
    "collapsed": true
   },
   "outputs": [],
   "source": []
  }
 ],
 "metadata": {
  "kernelspec": {
   "display_name": "Python 3",
   "language": "python",
   "name": "python3"
  },
  "language_info": {
   "codemirror_mode": {
    "name": "ipython",
    "version": 3
   },
   "file_extension": ".py",
   "mimetype": "text/x-python",
   "name": "python",
   "nbconvert_exporter": "python",
   "pygments_lexer": "ipython3",
   "version": "3.6.2"
  }
 },
 "nbformat": 4,
 "nbformat_minor": 2
}
