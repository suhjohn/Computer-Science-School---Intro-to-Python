{
 "cells": [
  {
   "cell_type": "code",
   "execution_count": 6,
   "metadata": {},
   "outputs": [
    {
     "name": "stdout",
     "output_type": "stream",
     "text": [
      "20\n",
      "10\n"
     ]
    }
   ],
   "source": [
    "#x = global variable\n",
    "x = 10\n",
    "\n",
    "#a, b : 매개변수, 인자 = parameter\n",
    "#a, b, c, d: 지역변수 = local variable\n",
    "def func():\n",
    "    #global x \n",
    "    x = 20\n",
    "    print(x)\n",
    "    \n",
    "func()\n",
    "print(x)\n"
   ]
  },
  {
   "cell_type": "code",
   "execution_count": 11,
   "metadata": {},
   "outputs": [
    {
     "name": "stdout",
     "output_type": "stream",
     "text": [
      "1 100 20 30 40\n"
     ]
    }
   ],
   "source": [
    "x = 1\n",
    "def outer():\n",
    "    a = 10 #local variable of outer AND free variable of inner \n",
    "    b = 20\n",
    "    def inner():\n",
    "        global x\n",
    "        nonlocal a\n",
    "        a = 100\n",
    "        c = 30 #local variable of inner\n",
    "        d = 40\n",
    "        print(x, a, b, c, d)\n",
    "    inner()\n",
    "    \n",
    "outer()"
   ]
  },
  {
   "cell_type": "code",
   "execution_count": 12,
   "metadata": {
    "collapsed": true
   },
   "outputs": [],
   "source": [
    "#packing: the act of giving a single variable values | 'a' becomes a tuple\n",
    "a = 1, 2, 3, 4, 5"
   ]
  },
  {
   "cell_type": "code",
   "execution_count": 17,
   "metadata": {
    "collapsed": true
   },
   "outputs": [],
   "source": [
    "#unpacking\n",
    "b, *c = a"
   ]
  },
  {
   "cell_type": "code",
   "execution_count": 15,
   "metadata": {},
   "outputs": [
    {
     "data": {
      "text/plain": [
       "[2, 3, 4, 5]"
      ]
     },
     "execution_count": 15,
     "metadata": {},
     "output_type": "execute_result"
    }
   ],
   "source": [
    "c"
   ]
  },
  {
   "cell_type": "code",
   "execution_count": 18,
   "metadata": {
    "collapsed": true
   },
   "outputs": [],
   "source": [
    "li = [1, 2, 3, 4, 5]"
   ]
  },
  {
   "cell_type": "code",
   "execution_count": 19,
   "metadata": {
    "collapsed": true
   },
   "outputs": [],
   "source": [
    "def func(*args):\n",
    "    print(args)"
   ]
  },
  {
   "cell_type": "code",
   "execution_count": 20,
   "metadata": {},
   "outputs": [
    {
     "name": "stdout",
     "output_type": "stream",
     "text": [
      "([1, 2, 3, 4, 5],)\n"
     ]
    }
   ],
   "source": [
    "#the entire list is one value in the tuple args\n",
    "func(li) "
   ]
  },
  {
   "cell_type": "code",
   "execution_count": 21,
   "metadata": {},
   "outputs": [
    {
     "name": "stdout",
     "output_type": "stream",
     "text": [
      "(1, 2, 3, 4, 5)\n"
     ]
    }
   ],
   "source": [
    "#unpacking\n",
    "func(*li)"
   ]
  },
  {
   "cell_type": "code",
   "execution_count": 22,
   "metadata": {
    "collapsed": true
   },
   "outputs": [],
   "source": [
    "dic = {'a': 1, 'b': 2, 'c': 3}"
   ]
  },
  {
   "cell_type": "code",
   "execution_count": 23,
   "metadata": {
    "collapsed": true
   },
   "outputs": [],
   "source": [
    "a, *b = dic\n"
   ]
  },
  {
   "cell_type": "code",
   "execution_count": 24,
   "metadata": {},
   "outputs": [
    {
     "data": {
      "text/plain": [
       "'a'"
      ]
     },
     "execution_count": 24,
     "metadata": {},
     "output_type": "execute_result"
    }
   ],
   "source": [
    "a"
   ]
  },
  {
   "cell_type": "code",
   "execution_count": 25,
   "metadata": {},
   "outputs": [
    {
     "data": {
      "text/plain": [
       "['b', 'c']"
      ]
     },
     "execution_count": 25,
     "metadata": {},
     "output_type": "execute_result"
    }
   ],
   "source": [
    "b\n",
    "#as seen above, only takes the key values from dic"
   ]
  },
  {
   "cell_type": "code",
   "execution_count": 27,
   "metadata": {},
   "outputs": [],
   "source": [
    "a, *b = dic.items()"
   ]
  },
  {
   "cell_type": "code",
   "execution_count": 28,
   "metadata": {},
   "outputs": [
    {
     "data": {
      "text/plain": [
       "('a', 1)"
      ]
     },
     "execution_count": 28,
     "metadata": {},
     "output_type": "execute_result"
    }
   ],
   "source": [
    "a"
   ]
  },
  {
   "cell_type": "code",
   "execution_count": 29,
   "metadata": {},
   "outputs": [
    {
     "data": {
      "text/plain": [
       "[('b', 2), ('c', 3)]"
      ]
     },
     "execution_count": 29,
     "metadata": {},
     "output_type": "execute_result"
    }
   ],
   "source": [
    "b\n",
    "#if we want the pair, then use .items()"
   ]
  },
  {
   "cell_type": "code",
   "execution_count": 32,
   "metadata": {},
   "outputs": [],
   "source": [
    "def func(a, *args, **kwargs):\n",
    "    pass"
   ]
  },
  {
   "cell_type": "code",
   "execution_count": 33,
   "metadata": {
    "collapsed": true
   },
   "outputs": [],
   "source": [
    "func(5)\n",
    "#the reason why no error is because * and ** is 가변인자, therefore doesn't \"require\" a variable"
   ]
  },
  {
   "cell_type": "code",
   "execution_count": 41,
   "metadata": {
    "collapsed": true
   },
   "outputs": [],
   "source": [
    "#In python, function is am expression\n",
    "#식(Expression) : Has a return value; 4 + 5\n",
    "#문(statement) : a = 10 + 7\n",
    "def func(a, b):\n",
    "    a + b"
   ]
  },
  {
   "cell_type": "code",
   "execution_count": 42,
   "metadata": {
    "collapsed": true
   },
   "outputs": [],
   "source": [
    "a = 50\n",
    "a = func(4, 5)"
   ]
  },
  {
   "cell_type": "code",
   "execution_count": 44,
   "metadata": {},
   "outputs": [
    {
     "name": "stdout",
     "output_type": "stream",
     "text": [
      "None\n"
     ]
    }
   ],
   "source": [
    "print(a)\n",
    "#as you can see from above, even if there is no \"return\" in front of a+b, \n",
    "#the func will change the declaraed value to \"None\" "
   ]
  },
  {
   "cell_type": "code",
   "execution_count": 59,
   "metadata": {
    "collapsed": true
   },
   "outputs": [],
   "source": [
    "def f(a, b):\n",
    "    return a + b\n",
    "\n",
    "def g(f, a, b):\n",
    "    return f(a, b)"
   ]
  },
  {
   "cell_type": "code",
   "execution_count": 50,
   "metadata": {},
   "outputs": [
    {
     "data": {
      "text/plain": [
       "11"
      ]
     },
     "execution_count": 50,
     "metadata": {},
     "output_type": "execute_result"
    }
   ],
   "source": [
    "g(f, 5, 6)"
   ]
  },
  {
   "cell_type": "code",
   "execution_count": 53,
   "metadata": {
    "collapsed": true
   },
   "outputs": [],
   "source": [
    "#ask about Design pattern\n",
    "\n",
    "# when 'add' : a function that adds two values\n",
    "#'sub' : a function that executes a - b\n",
    "def calc(kind = 'add'):\n",
    "    def add(a, b):\n",
    "        return a + b\n",
    "    def sub(a, b):\n",
    "        return a - b\n",
    "    \n",
    "    if kind == 'add':\n",
    "        return add\n",
    "    elif kind == 'sub':\n",
    "        return sub\n",
    "    "
   ]
  },
  {
   "cell_type": "code",
   "execution_count": 54,
   "metadata": {
    "collapsed": true
   },
   "outputs": [],
   "source": [
    "f = calc('add')"
   ]
  },
  {
   "cell_type": "code",
   "execution_count": 55,
   "metadata": {},
   "outputs": [
    {
     "data": {
      "text/plain": [
       "6"
      ]
     },
     "execution_count": 55,
     "metadata": {},
     "output_type": "execute_result"
    }
   ],
   "source": [
    "f(1,5)"
   ]
  },
  {
   "cell_type": "code",
   "execution_count": 56,
   "metadata": {
    "collapsed": true
   },
   "outputs": [],
   "source": [
    "f = calc('sub')"
   ]
  },
  {
   "cell_type": "code",
   "execution_count": 58,
   "metadata": {},
   "outputs": [
    {
     "data": {
      "text/plain": [
       "4"
      ]
     },
     "execution_count": 58,
     "metadata": {},
     "output_type": "execute_result"
    }
   ],
   "source": [
    "f(6,2)"
   ]
  },
  {
   "cell_type": "code",
   "execution_count": 60,
   "metadata": {
    "collapsed": true
   },
   "outputs": [],
   "source": [
    "def func(a, b):\n",
    "    return a + b"
   ]
  },
  {
   "cell_type": "code",
   "execution_count": 61,
   "metadata": {},
   "outputs": [
    {
     "data": {
      "text/plain": [
       "7"
      ]
     },
     "execution_count": 61,
     "metadata": {},
     "output_type": "execute_result"
    }
   ],
   "source": [
    "func(1, 2)\n",
    "func(3, 4)"
   ]
  },
  {
   "cell_type": "code",
   "execution_count": 63,
   "metadata": {
    "collapsed": true
   },
   "outputs": [],
   "source": [
    "#function object \n",
    "#code object"
   ]
  },
  {
   "cell_type": "code",
   "execution_count": 64,
   "metadata": {
    "collapsed": true
   },
   "outputs": [],
   "source": []
  },
  {
   "cell_type": "code",
   "execution_count": 66,
   "metadata": {},
   "outputs": [
    {
     "data": {
      "text/plain": [
       "<function __main__.func>"
      ]
     },
     "execution_count": 66,
     "metadata": {},
     "output_type": "execute_result"
    }
   ],
   "source": [
    "func"
   ]
  },
  {
   "cell_type": "code",
   "execution_count": 67,
   "metadata": {},
   "outputs": [
    {
     "data": {
      "text/plain": [
       "['__annotations__',\n",
       " '__call__',\n",
       " '__class__',\n",
       " '__closure__',\n",
       " '__code__',\n",
       " '__defaults__',\n",
       " '__delattr__',\n",
       " '__dict__',\n",
       " '__dir__',\n",
       " '__doc__',\n",
       " '__eq__',\n",
       " '__format__',\n",
       " '__ge__',\n",
       " '__get__',\n",
       " '__getattribute__',\n",
       " '__globals__',\n",
       " '__gt__',\n",
       " '__hash__',\n",
       " '__init__',\n",
       " '__init_subclass__',\n",
       " '__kwdefaults__',\n",
       " '__le__',\n",
       " '__lt__',\n",
       " '__module__',\n",
       " '__name__',\n",
       " '__ne__',\n",
       " '__new__',\n",
       " '__qualname__',\n",
       " '__reduce__',\n",
       " '__reduce_ex__',\n",
       " '__repr__',\n",
       " '__setattr__',\n",
       " '__sizeof__',\n",
       " '__str__',\n",
       " '__subclasshook__']"
      ]
     },
     "execution_count": 67,
     "metadata": {},
     "output_type": "execute_result"
    }
   ],
   "source": [
    "dir(func)"
   ]
  },
  {
   "cell_type": "code",
   "execution_count": 69,
   "metadata": {},
   "outputs": [],
   "source": [
    "a = 10\n",
    "b = 20\n",
    "c = 30 "
   ]
  },
  {
   "cell_type": "code",
   "execution_count": 70,
   "metadata": {
    "collapsed": true
   },
   "outputs": [],
   "source": [
    "def f(a,b):\n",
    "    return a + b"
   ]
  },
  {
   "cell_type": "code",
   "execution_count": 71,
   "metadata": {},
   "outputs": [
    {
     "data": {
      "text/plain": [
       "{'In': ['',\n",
       "  'x = 10\\n\\n#a, b : 매개변수, 인자 = parameter\\n#a, b, c, d: 지역변수 = local variable\\ndef func(a, b):\\n    x = 20\\n    c = 10\\n    d = 20\\n    \\nfunc()',\n",
       "  'x = 10\\n\\n#a, b : 매개변수, 인자 = parameter\\n#a, b, c, d: 지역변수 = local variable\\ndef func():\\n    x = 20\\n    c = 10\\n    d = 20\\n    \\nfunc()',\n",
       "  'x = 10\\n\\n#a, b : 매개변수, 인자 = parameter\\n#a, b, c, d: 지역변수 = local variable\\ndef func():\\n    x = 20\\n    c = 10\\n    d = 20\\n    \\nfunc()',\n",
       "  'x = 10\\n\\n#a, b : 매개변수, 인자 = parameter\\n#a, b, c, d: 지역변수 = local variable\\ndef func():\\n    x = 20\\n    print(x)\\n    \\nfunc()',\n",
       "  'x = 10\\n\\n#a, b : 매개변수, 인자 = parameter\\n#a, b, c, d: 지역변수 = local variable\\ndef func():\\n    global x \\n    x = 20\\n    print(x)\\n    \\nfunc()\\nprint(x)',\n",
       "  '#x = global variable\\nx = 10\\n\\n#a, b : 매개변수, 인자 = parameter\\n#a, b, c, d: 지역변수 = local variable\\ndef func():\\n    #global x \\n    x = 20\\n    print(x)\\n    \\nfunc()\\nprint(x)',\n",
       "  'x = 1\\ndef outer(a, b):\\n    a = 10\\n    b = 20\\n    def inner(c, d):\\n        c = 30\\n        d = 40\\n        print(x, a, b, c, d)\\n    inner()\\nouter()',\n",
       "  'x = 1\\ndef outer():\\n    a = 10\\n    b = 20\\n    def inner():\\n        c = 30\\n        d = 40\\n        print(x, a, b, c, d)\\n    inner()\\nouter()',\n",
       "  'x = 1\\ndef outer():\\n    a = 10\\n    b = 20\\n    def inner():\\n        global x\\n        nonlocal a\\n        a = 100\\n        c = 30\\n        d = 40\\n        print(x, a, b, c, d)\\n    inner()\\n    \\nouter()',\n",
       "  'x = 1\\ndef outer():\\n    a = 10\\n    b = 20\\n    def inner():\\n        global x\\n        nonlocal a\\n        a = 100\\n        c = 30 \\n        d = 40\\n        print(x, a, b, c, d)\\n    inner()\\n    \\nouter()',\n",
       "  'x = 1\\ndef outer():\\n    a = 10 #local variable of outer AND free variable of inner \\n    b = 20\\n    def inner():\\n        global x\\n        nonlocal a\\n        a = 100\\n        c = 30 #local variable of inner\\n        d = 40\\n        print(x, a, b, c, d)\\n    inner()\\n    \\nouter()',\n",
       "  \"#packing: the act of giving a single variable values = 'a' becomes a tuple\\na = 1, 2, 3, 4, 5\",\n",
       "  '#unpacking\\nb, *c = a',\n",
       "  'b',\n",
       "  'c',\n",
       "  '#unpacking\\nb, (*c) = a',\n",
       "  '#unpacking\\nb, *c = a',\n",
       "  'li = [1, 2, 3, 4, 5]',\n",
       "  'def func(*args):\\n    print(args)',\n",
       "  'func(li) ',\n",
       "  'func(*li)',\n",
       "  \"dic = {'a': 1, 'b': 2, 'c': 3}\",\n",
       "  'a, *b = dic',\n",
       "  'a',\n",
       "  'b',\n",
       "  '**a, **b = dic',\n",
       "  'a, *b = dic.items()',\n",
       "  'a',\n",
       "  'b',\n",
       "  'a, **b = dic.items()',\n",
       "  'a, **b = dic',\n",
       "  'def func(a, *args, **kwargs):\\n    pass',\n",
       "  'func(5)',\n",
       "  'def func(a, b):\\n    return a + b',\n",
       "  'a = 0\\na = func(4, 5)',\n",
       "  'a',\n",
       "  'def func(a, b):\\n    return',\n",
       "  'a = 50\\na = func(4, 5)',\n",
       "  'a',\n",
       "  'print(a)',\n",
       "  'def func(a, b):\\n    a + b',\n",
       "  'a = 50\\na = func(4, 5)',\n",
       "  'print(a)',\n",
       "  'print(a)',\n",
       "  'def f(a, b):\\n    return a +b\\n\\ndef g(func, a, b):\\n    return func(a, b)',\n",
       "  'g(f, 5, 6)',\n",
       "  'g(\"I am\", 5, 6)',\n",
       "  'g(f, 5, 6)',\n",
       "  'def f(a, b):\\n    return a +b\\n\\ndef g(f, a, b):\\n    return f(a, b)',\n",
       "  'g(f, 5, 6)',\n",
       "  \"#ask about Design pattern\\ndef calc(kind = 'add'):\\n    pass\",\n",
       "  'calc()',\n",
       "  \"#ask about Design pattern\\n\\n# when 'add' : a function that adds two values\\n#'sub' : a function that executes a - b\\ndef calc(kind = 'add'):\\n    def add(a, b):\\n        return a + b\\n    def sub(a, b):\\n        return a - b\\n    \\n    if kind == 'add':\\n        return add\\n    elif kind == 'sub':\\n        return sub\\n    \",\n",
       "  \"f = calc('add')\",\n",
       "  'f(1,5)',\n",
       "  \"f = calc('sub')\",\n",
       "  'f(6,2\\n )',\n",
       "  'f(6,2)',\n",
       "  'def f(a, b):\\n    return a + b\\n\\ndef g(f, a, b):\\n    return f(a, b)',\n",
       "  'def func(a, b):\\n    return a + b',\n",
       "  'func(1, 2)\\nfunc(3, 4)',\n",
       "  '#function object ',\n",
       "  '#function object \\n#code object',\n",
       "  'def func(a, b):\\n    return a + b',\n",
       "  'func()',\n",
       "  'func',\n",
       "  'dir(func)',\n",
       "  'func.__globals__',\n",
       "  'a = 10\\nb = 20\\nc = 30 ',\n",
       "  'def f(a,b):\\n    return a + b',\n",
       "  'f.__globals__'],\n",
       " 'Out': {14: 1,\n",
       "  15: [2, 3, 4, 5],\n",
       "  24: 'a',\n",
       "  25: ['b', 'c'],\n",
       "  28: ('a', 1),\n",
       "  29: [('b', 2), ('c', 3)],\n",
       "  36: 9,\n",
       "  46: 11,\n",
       "  48: 11,\n",
       "  50: 11,\n",
       "  55: 6,\n",
       "  57: 4,\n",
       "  58: 4,\n",
       "  61: 7,\n",
       "  66: <function __main__.func>,\n",
       "  67: ['__annotations__',\n",
       "   '__call__',\n",
       "   '__class__',\n",
       "   '__closure__',\n",
       "   '__code__',\n",
       "   '__defaults__',\n",
       "   '__delattr__',\n",
       "   '__dict__',\n",
       "   '__dir__',\n",
       "   '__doc__',\n",
       "   '__eq__',\n",
       "   '__format__',\n",
       "   '__ge__',\n",
       "   '__get__',\n",
       "   '__getattribute__',\n",
       "   '__globals__',\n",
       "   '__gt__',\n",
       "   '__hash__',\n",
       "   '__init__',\n",
       "   '__init_subclass__',\n",
       "   '__kwdefaults__',\n",
       "   '__le__',\n",
       "   '__lt__',\n",
       "   '__module__',\n",
       "   '__name__',\n",
       "   '__ne__',\n",
       "   '__new__',\n",
       "   '__qualname__',\n",
       "   '__reduce__',\n",
       "   '__reduce_ex__',\n",
       "   '__repr__',\n",
       "   '__setattr__',\n",
       "   '__sizeof__',\n",
       "   '__str__',\n",
       "   '__subclasshook__'],\n",
       "  68: {...}},\n",
       " '_': {...},\n",
       " '_14': 1,\n",
       " '_15': [2, 3, 4, 5],\n",
       " '_24': 'a',\n",
       " '_25': ['b', 'c'],\n",
       " '_28': ('a', 1),\n",
       " '_29': [('b', 2), ('c', 3)],\n",
       " '_36': 9,\n",
       " '_46': 11,\n",
       " '_48': 11,\n",
       " '_50': 11,\n",
       " '_55': 6,\n",
       " '_57': 4,\n",
       " '_58': 4,\n",
       " '_61': 7,\n",
       " '_66': <function __main__.func>,\n",
       " '_67': ['__annotations__',\n",
       "  '__call__',\n",
       "  '__class__',\n",
       "  '__closure__',\n",
       "  '__code__',\n",
       "  '__defaults__',\n",
       "  '__delattr__',\n",
       "  '__dict__',\n",
       "  '__dir__',\n",
       "  '__doc__',\n",
       "  '__eq__',\n",
       "  '__format__',\n",
       "  '__ge__',\n",
       "  '__get__',\n",
       "  '__getattribute__',\n",
       "  '__globals__',\n",
       "  '__gt__',\n",
       "  '__hash__',\n",
       "  '__init__',\n",
       "  '__init_subclass__',\n",
       "  '__kwdefaults__',\n",
       "  '__le__',\n",
       "  '__lt__',\n",
       "  '__module__',\n",
       "  '__name__',\n",
       "  '__ne__',\n",
       "  '__new__',\n",
       "  '__qualname__',\n",
       "  '__reduce__',\n",
       "  '__reduce_ex__',\n",
       "  '__repr__',\n",
       "  '__setattr__',\n",
       "  '__sizeof__',\n",
       "  '__str__',\n",
       "  '__subclasshook__'],\n",
       " '_68': {...},\n",
       " '__': ['__annotations__',\n",
       "  '__call__',\n",
       "  '__class__',\n",
       "  '__closure__',\n",
       "  '__code__',\n",
       "  '__defaults__',\n",
       "  '__delattr__',\n",
       "  '__dict__',\n",
       "  '__dir__',\n",
       "  '__doc__',\n",
       "  '__eq__',\n",
       "  '__format__',\n",
       "  '__ge__',\n",
       "  '__get__',\n",
       "  '__getattribute__',\n",
       "  '__globals__',\n",
       "  '__gt__',\n",
       "  '__hash__',\n",
       "  '__init__',\n",
       "  '__init_subclass__',\n",
       "  '__kwdefaults__',\n",
       "  '__le__',\n",
       "  '__lt__',\n",
       "  '__module__',\n",
       "  '__name__',\n",
       "  '__ne__',\n",
       "  '__new__',\n",
       "  '__qualname__',\n",
       "  '__reduce__',\n",
       "  '__reduce_ex__',\n",
       "  '__repr__',\n",
       "  '__setattr__',\n",
       "  '__sizeof__',\n",
       "  '__str__',\n",
       "  '__subclasshook__'],\n",
       " '___': <function __main__.func>,\n",
       " '__builtin__': <module 'builtins' (built-in)>,\n",
       " '__builtins__': <module 'builtins' (built-in)>,\n",
       " '__doc__': 'Automatically created module for IPython interactive environment',\n",
       " '__loader__': None,\n",
       " '__name__': '__main__',\n",
       " '__package__': None,\n",
       " '__spec__': None,\n",
       " '_dh': ['/Users/mac/Documents/css/practice-python'],\n",
       " '_i': 'def f(a,b):\\n    return a + b',\n",
       " '_i1': 'x = 10\\n\\n#a, b : 매개변수, 인자 = parameter\\n#a, b, c, d: 지역변수 = local variable\\ndef func(a, b):\\n    x = 20\\n    c = 10\\n    d = 20\\n    \\nfunc()',\n",
       " '_i10': 'x = 1\\ndef outer():\\n    a = 10\\n    b = 20\\n    def inner():\\n        global x\\n        nonlocal a\\n        a = 100\\n        c = 30 \\n        d = 40\\n        print(x, a, b, c, d)\\n    inner()\\n    \\nouter()',\n",
       " '_i11': 'x = 1\\ndef outer():\\n    a = 10 #local variable of outer AND free variable of inner \\n    b = 20\\n    def inner():\\n        global x\\n        nonlocal a\\n        a = 100\\n        c = 30 #local variable of inner\\n        d = 40\\n        print(x, a, b, c, d)\\n    inner()\\n    \\nouter()',\n",
       " '_i12': \"#packing: the act of giving a single variable values = 'a' becomes a tuple\\na = 1, 2, 3, 4, 5\",\n",
       " '_i13': '#unpacking\\nb, *c = a',\n",
       " '_i14': 'b',\n",
       " '_i15': 'c',\n",
       " '_i16': '#unpacking\\nb, (*c) = a',\n",
       " '_i17': '#unpacking\\nb, *c = a',\n",
       " '_i18': 'li = [1, 2, 3, 4, 5]',\n",
       " '_i19': 'def func(*args):\\n    print(args)',\n",
       " '_i2': 'x = 10\\n\\n#a, b : 매개변수, 인자 = parameter\\n#a, b, c, d: 지역변수 = local variable\\ndef func():\\n    x = 20\\n    c = 10\\n    d = 20\\n    \\nfunc()',\n",
       " '_i20': 'func(li) ',\n",
       " '_i21': 'func(*li)',\n",
       " '_i22': \"dic = {'a': 1, 'b': 2, 'c': 3}\",\n",
       " '_i23': 'a, *b = dic',\n",
       " '_i24': 'a',\n",
       " '_i25': 'b',\n",
       " '_i26': '**a, **b = dic',\n",
       " '_i27': 'a, *b = dic.items()',\n",
       " '_i28': 'a',\n",
       " '_i29': 'b',\n",
       " '_i3': 'x = 10\\n\\n#a, b : 매개변수, 인자 = parameter\\n#a, b, c, d: 지역변수 = local variable\\ndef func():\\n    x = 20\\n    c = 10\\n    d = 20\\n    \\nfunc()',\n",
       " '_i30': 'a, **b = dic.items()',\n",
       " '_i31': 'a, **b = dic',\n",
       " '_i32': 'def func(a, *args, **kwargs):\\n    pass',\n",
       " '_i33': 'func(5)',\n",
       " '_i34': 'def func(a, b):\\n    return a + b',\n",
       " '_i35': 'a = 0\\na = func(4, 5)',\n",
       " '_i36': 'a',\n",
       " '_i37': 'def func(a, b):\\n    return',\n",
       " '_i38': 'a = 50\\na = func(4, 5)',\n",
       " '_i39': 'a',\n",
       " '_i4': 'x = 10\\n\\n#a, b : 매개변수, 인자 = parameter\\n#a, b, c, d: 지역변수 = local variable\\ndef func():\\n    x = 20\\n    print(x)\\n    \\nfunc()',\n",
       " '_i40': 'print(a)',\n",
       " '_i41': 'def func(a, b):\\n    a + b',\n",
       " '_i42': 'a = 50\\na = func(4, 5)',\n",
       " '_i43': 'print(a)',\n",
       " '_i44': 'print(a)',\n",
       " '_i45': 'def f(a, b):\\n    return a +b\\n\\ndef g(func, a, b):\\n    return func(a, b)',\n",
       " '_i46': 'g(f, 5, 6)',\n",
       " '_i47': 'g(\"I am\", 5, 6)',\n",
       " '_i48': 'g(f, 5, 6)',\n",
       " '_i49': 'def f(a, b):\\n    return a +b\\n\\ndef g(f, a, b):\\n    return f(a, b)',\n",
       " '_i5': 'x = 10\\n\\n#a, b : 매개변수, 인자 = parameter\\n#a, b, c, d: 지역변수 = local variable\\ndef func():\\n    global x \\n    x = 20\\n    print(x)\\n    \\nfunc()\\nprint(x)',\n",
       " '_i50': 'g(f, 5, 6)',\n",
       " '_i51': \"#ask about Design pattern\\ndef calc(kind = 'add'):\\n    pass\",\n",
       " '_i52': 'calc()',\n",
       " '_i53': \"#ask about Design pattern\\n\\n# when 'add' : a function that adds two values\\n#'sub' : a function that executes a - b\\ndef calc(kind = 'add'):\\n    def add(a, b):\\n        return a + b\\n    def sub(a, b):\\n        return a - b\\n    \\n    if kind == 'add':\\n        return add\\n    elif kind == 'sub':\\n        return sub\\n    \",\n",
       " '_i54': \"f = calc('add')\",\n",
       " '_i55': 'f(1,5)',\n",
       " '_i56': \"f = calc('sub')\",\n",
       " '_i57': 'f(6,2\\n )',\n",
       " '_i58': 'f(6,2)',\n",
       " '_i59': 'def f(a, b):\\n    return a + b\\n\\ndef g(f, a, b):\\n    return f(a, b)',\n",
       " '_i6': '#x = global variable\\nx = 10\\n\\n#a, b : 매개변수, 인자 = parameter\\n#a, b, c, d: 지역변수 = local variable\\ndef func():\\n    #global x \\n    x = 20\\n    print(x)\\n    \\nfunc()\\nprint(x)',\n",
       " '_i60': 'def func(a, b):\\n    return a + b',\n",
       " '_i61': 'func(1, 2)\\nfunc(3, 4)',\n",
       " '_i62': '#function object ',\n",
       " '_i63': '#function object \\n#code object',\n",
       " '_i64': 'def func(a, b):\\n    return a + b',\n",
       " '_i65': 'func()',\n",
       " '_i66': 'func',\n",
       " '_i67': 'dir(func)',\n",
       " '_i68': 'func.__globals__',\n",
       " '_i69': 'a = 10\\nb = 20\\nc = 30 ',\n",
       " '_i7': 'x = 1\\ndef outer(a, b):\\n    a = 10\\n    b = 20\\n    def inner(c, d):\\n        c = 30\\n        d = 40\\n        print(x, a, b, c, d)\\n    inner()\\nouter()',\n",
       " '_i70': 'def f(a,b):\\n    return a + b',\n",
       " '_i71': 'f.__globals__',\n",
       " '_i8': 'x = 1\\ndef outer():\\n    a = 10\\n    b = 20\\n    def inner():\\n        c = 30\\n        d = 40\\n        print(x, a, b, c, d)\\n    inner()\\nouter()',\n",
       " '_i9': 'x = 1\\ndef outer():\\n    a = 10\\n    b = 20\\n    def inner():\\n        global x\\n        nonlocal a\\n        a = 100\\n        c = 30\\n        d = 40\\n        print(x, a, b, c, d)\\n    inner()\\n    \\nouter()',\n",
       " '_ih': ['',\n",
       "  'x = 10\\n\\n#a, b : 매개변수, 인자 = parameter\\n#a, b, c, d: 지역변수 = local variable\\ndef func(a, b):\\n    x = 20\\n    c = 10\\n    d = 20\\n    \\nfunc()',\n",
       "  'x = 10\\n\\n#a, b : 매개변수, 인자 = parameter\\n#a, b, c, d: 지역변수 = local variable\\ndef func():\\n    x = 20\\n    c = 10\\n    d = 20\\n    \\nfunc()',\n",
       "  'x = 10\\n\\n#a, b : 매개변수, 인자 = parameter\\n#a, b, c, d: 지역변수 = local variable\\ndef func():\\n    x = 20\\n    c = 10\\n    d = 20\\n    \\nfunc()',\n",
       "  'x = 10\\n\\n#a, b : 매개변수, 인자 = parameter\\n#a, b, c, d: 지역변수 = local variable\\ndef func():\\n    x = 20\\n    print(x)\\n    \\nfunc()',\n",
       "  'x = 10\\n\\n#a, b : 매개변수, 인자 = parameter\\n#a, b, c, d: 지역변수 = local variable\\ndef func():\\n    global x \\n    x = 20\\n    print(x)\\n    \\nfunc()\\nprint(x)',\n",
       "  '#x = global variable\\nx = 10\\n\\n#a, b : 매개변수, 인자 = parameter\\n#a, b, c, d: 지역변수 = local variable\\ndef func():\\n    #global x \\n    x = 20\\n    print(x)\\n    \\nfunc()\\nprint(x)',\n",
       "  'x = 1\\ndef outer(a, b):\\n    a = 10\\n    b = 20\\n    def inner(c, d):\\n        c = 30\\n        d = 40\\n        print(x, a, b, c, d)\\n    inner()\\nouter()',\n",
       "  'x = 1\\ndef outer():\\n    a = 10\\n    b = 20\\n    def inner():\\n        c = 30\\n        d = 40\\n        print(x, a, b, c, d)\\n    inner()\\nouter()',\n",
       "  'x = 1\\ndef outer():\\n    a = 10\\n    b = 20\\n    def inner():\\n        global x\\n        nonlocal a\\n        a = 100\\n        c = 30\\n        d = 40\\n        print(x, a, b, c, d)\\n    inner()\\n    \\nouter()',\n",
       "  'x = 1\\ndef outer():\\n    a = 10\\n    b = 20\\n    def inner():\\n        global x\\n        nonlocal a\\n        a = 100\\n        c = 30 \\n        d = 40\\n        print(x, a, b, c, d)\\n    inner()\\n    \\nouter()',\n",
       "  'x = 1\\ndef outer():\\n    a = 10 #local variable of outer AND free variable of inner \\n    b = 20\\n    def inner():\\n        global x\\n        nonlocal a\\n        a = 100\\n        c = 30 #local variable of inner\\n        d = 40\\n        print(x, a, b, c, d)\\n    inner()\\n    \\nouter()',\n",
       "  \"#packing: the act of giving a single variable values = 'a' becomes a tuple\\na = 1, 2, 3, 4, 5\",\n",
       "  '#unpacking\\nb, *c = a',\n",
       "  'b',\n",
       "  'c',\n",
       "  '#unpacking\\nb, (*c) = a',\n",
       "  '#unpacking\\nb, *c = a',\n",
       "  'li = [1, 2, 3, 4, 5]',\n",
       "  'def func(*args):\\n    print(args)',\n",
       "  'func(li) ',\n",
       "  'func(*li)',\n",
       "  \"dic = {'a': 1, 'b': 2, 'c': 3}\",\n",
       "  'a, *b = dic',\n",
       "  'a',\n",
       "  'b',\n",
       "  '**a, **b = dic',\n",
       "  'a, *b = dic.items()',\n",
       "  'a',\n",
       "  'b',\n",
       "  'a, **b = dic.items()',\n",
       "  'a, **b = dic',\n",
       "  'def func(a, *args, **kwargs):\\n    pass',\n",
       "  'func(5)',\n",
       "  'def func(a, b):\\n    return a + b',\n",
       "  'a = 0\\na = func(4, 5)',\n",
       "  'a',\n",
       "  'def func(a, b):\\n    return',\n",
       "  'a = 50\\na = func(4, 5)',\n",
       "  'a',\n",
       "  'print(a)',\n",
       "  'def func(a, b):\\n    a + b',\n",
       "  'a = 50\\na = func(4, 5)',\n",
       "  'print(a)',\n",
       "  'print(a)',\n",
       "  'def f(a, b):\\n    return a +b\\n\\ndef g(func, a, b):\\n    return func(a, b)',\n",
       "  'g(f, 5, 6)',\n",
       "  'g(\"I am\", 5, 6)',\n",
       "  'g(f, 5, 6)',\n",
       "  'def f(a, b):\\n    return a +b\\n\\ndef g(f, a, b):\\n    return f(a, b)',\n",
       "  'g(f, 5, 6)',\n",
       "  \"#ask about Design pattern\\ndef calc(kind = 'add'):\\n    pass\",\n",
       "  'calc()',\n",
       "  \"#ask about Design pattern\\n\\n# when 'add' : a function that adds two values\\n#'sub' : a function that executes a - b\\ndef calc(kind = 'add'):\\n    def add(a, b):\\n        return a + b\\n    def sub(a, b):\\n        return a - b\\n    \\n    if kind == 'add':\\n        return add\\n    elif kind == 'sub':\\n        return sub\\n    \",\n",
       "  \"f = calc('add')\",\n",
       "  'f(1,5)',\n",
       "  \"f = calc('sub')\",\n",
       "  'f(6,2\\n )',\n",
       "  'f(6,2)',\n",
       "  'def f(a, b):\\n    return a + b\\n\\ndef g(f, a, b):\\n    return f(a, b)',\n",
       "  'def func(a, b):\\n    return a + b',\n",
       "  'func(1, 2)\\nfunc(3, 4)',\n",
       "  '#function object ',\n",
       "  '#function object \\n#code object',\n",
       "  'def func(a, b):\\n    return a + b',\n",
       "  'func()',\n",
       "  'func',\n",
       "  'dir(func)',\n",
       "  'func.__globals__',\n",
       "  'a = 10\\nb = 20\\nc = 30 ',\n",
       "  'def f(a,b):\\n    return a + b',\n",
       "  'f.__globals__'],\n",
       " '_ii': 'a = 10\\nb = 20\\nc = 30 ',\n",
       " '_iii': 'func.__globals__',\n",
       " '_oh': {14: 1,\n",
       "  15: [2, 3, 4, 5],\n",
       "  24: 'a',\n",
       "  25: ['b', 'c'],\n",
       "  28: ('a', 1),\n",
       "  29: [('b', 2), ('c', 3)],\n",
       "  36: 9,\n",
       "  46: 11,\n",
       "  48: 11,\n",
       "  50: 11,\n",
       "  55: 6,\n",
       "  57: 4,\n",
       "  58: 4,\n",
       "  61: 7,\n",
       "  66: <function __main__.func>,\n",
       "  67: ['__annotations__',\n",
       "   '__call__',\n",
       "   '__class__',\n",
       "   '__closure__',\n",
       "   '__code__',\n",
       "   '__defaults__',\n",
       "   '__delattr__',\n",
       "   '__dict__',\n",
       "   '__dir__',\n",
       "   '__doc__',\n",
       "   '__eq__',\n",
       "   '__format__',\n",
       "   '__ge__',\n",
       "   '__get__',\n",
       "   '__getattribute__',\n",
       "   '__globals__',\n",
       "   '__gt__',\n",
       "   '__hash__',\n",
       "   '__init__',\n",
       "   '__init_subclass__',\n",
       "   '__kwdefaults__',\n",
       "   '__le__',\n",
       "   '__lt__',\n",
       "   '__module__',\n",
       "   '__name__',\n",
       "   '__ne__',\n",
       "   '__new__',\n",
       "   '__qualname__',\n",
       "   '__reduce__',\n",
       "   '__reduce_ex__',\n",
       "   '__repr__',\n",
       "   '__setattr__',\n",
       "   '__sizeof__',\n",
       "   '__str__',\n",
       "   '__subclasshook__'],\n",
       "  68: {...}},\n",
       " 'a': 10,\n",
       " 'b': 20,\n",
       " 'c': 30,\n",
       " 'calc': <function __main__.calc>,\n",
       " 'dic': {'a': 1, 'b': 2, 'c': 3},\n",
       " 'exit': <IPython.core.autocall.ZMQExitAutocall at 0x106b84320>,\n",
       " 'f': <function __main__.f>,\n",
       " 'func': <function __main__.func>,\n",
       " 'g': <function __main__.g>,\n",
       " 'get_ipython': <bound method InteractiveShell.get_ipython of <ipykernel.zmqshell.ZMQInteractiveShell object at 0x106b20be0>>,\n",
       " 'li': [1, 2, 3, 4, 5],\n",
       " 'outer': <function __main__.outer>,\n",
       " 'quit': <IPython.core.autocall.ZMQExitAutocall at 0x106b84320>,\n",
       " 'x': 1}"
      ]
     },
     "execution_count": 71,
     "metadata": {},
     "output_type": "execute_result"
    }
   ],
   "source": [
    "f.__globals__"
   ]
  },
  {
   "cell_type": "code",
   "execution_count": 72,
   "metadata": {
    "collapsed": true
   },
   "outputs": [],
   "source": [
    "#when the function sees print(a), first looks for the local variables, and when it's not possible, it'll go to globals.\n",
    "#In other words, all functions \"have\" the globals in it. \n",
    "def func():\n",
    "    print(a)"
   ]
  },
  {
   "cell_type": "code",
   "execution_count": 73,
   "metadata": {
    "collapsed": true
   },
   "outputs": [],
   "source": [
    "code = func.__code__"
   ]
  },
  {
   "cell_type": "code",
   "execution_count": 75,
   "metadata": {},
   "outputs": [
    {
     "data": {
      "text/plain": [
       "<code object func at 0x106d30540, file \"<ipython-input-72-20032cc4ef8a>\", line 3>"
      ]
     },
     "execution_count": 75,
     "metadata": {},
     "output_type": "execute_result"
    }
   ],
   "source": [
    "code"
   ]
  },
  {
   "cell_type": "code",
   "execution_count": 76,
   "metadata": {},
   "outputs": [
    {
     "data": {
      "text/plain": [
       "b't\\x00t\\x01\\x83\\x01\\x01\\x00d\\x00S\\x00'"
      ]
     },
     "execution_count": 76,
     "metadata": {},
     "output_type": "execute_result"
    }
   ],
   "source": [
    "code.co_code"
   ]
  },
  {
   "cell_type": "code",
   "execution_count": 77,
   "metadata": {
    "collapsed": true
   },
   "outputs": [],
   "source": [
    "def func(a, b):\n",
    "    return a + b"
   ]
  },
  {
   "cell_type": "code",
   "execution_count": null,
   "metadata": {
    "collapsed": true
   },
   "outputs": [],
   "source": [
    "\"\"\"\"\" An object forms when you declare a function like above.\n",
    "1. globals\n",
    "2. code object \n",
    "\"\"\"\"\"\n"
   ]
  }
 ],
 "metadata": {
  "kernelspec": {
   "display_name": "Python 3",
   "language": "python",
   "name": "python3"
  },
  "language_info": {
   "codemirror_mode": {
    "name": "ipython",
    "version": 3
   },
   "file_extension": ".py",
   "mimetype": "text/x-python",
   "name": "python",
   "nbconvert_exporter": "python",
   "pygments_lexer": "ipython3",
   "version": "3.6.2"
  }
 },
 "nbformat": 4,
 "nbformat_minor": 2
}
