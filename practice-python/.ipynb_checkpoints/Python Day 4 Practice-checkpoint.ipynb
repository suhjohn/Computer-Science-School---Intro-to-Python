{
 "cells": [
  {
   "cell_type": "code",
   "execution_count": 7,
   "metadata": {},
   "outputs": [
    {
     "name": "stdout",
     "output_type": "stream",
     "text": [
      "Hi, Fool\n",
      "But, you are Fool\n"
     ]
    }
   ],
   "source": [
    "def say_hello(name=\"Fool\", nick=True):\n",
    "    print(\"Hi,\", name)\n",
    "    if nick == True:\n",
    "        print(\"But, you are Fool\")\n",
    "    else:\n",
    "        print(\"Oh, you are not Fool\")\n",
    "say_hello()\n"
   ]
  },
  {
   "cell_type": "code",
   "execution_count": 12,
   "metadata": {},
   "outputs": [
    {
     "data": {
      "text/plain": [
       "55"
      ]
     },
     "execution_count": 12,
     "metadata": {},
     "output_type": "execute_result"
    }
   ],
   "source": [
    "def mul_sum(*nums):\n",
    "    result = 0\n",
    "    for num in nums:\n",
    "        result = result + num\n",
    "    return result\n",
    "mul_sum(\n",
    "    1,2,3,4,5,6,7,8,9,10)"
   ]
  },
  {
   "cell_type": "code",
   "execution_count": 15,
   "metadata": {},
   "outputs": [
    {
     "data": {
      "text/plain": [
       "{'English': 'pass', 'ger': 70, 'kor': 90}"
      ]
     },
     "execution_count": 15,
     "metadata": {},
     "output_type": "execute_result"
    }
   ],
   "source": [
    "dict1 = {\"kor\":90, \"ger\":70}\n",
    "dict1['English'] = 'pass'\n",
    "dict1"
   ]
  },
  {
   "cell_type": "code",
   "execution_count": 16,
   "metadata": {},
   "outputs": [
    {
     "data": {
      "text/plain": [
       "{'ger': 70, 'kor': 90}"
      ]
     },
     "execution_count": 16,
     "metadata": {},
     "output_type": "execute_result"
    }
   ],
   "source": [
    "del dict1['English']\n",
    "dict1"
   ]
  },
  {
   "cell_type": "code",
   "execution_count": 24,
   "metadata": {},
   "outputs": [
    {
     "data": {
      "text/plain": [
       "{'a', 'e', 'i', 'l', 'n', 'p'}"
      ]
     },
     "execution_count": 24,
     "metadata": {},
     "output_type": "execute_result"
    }
   ],
   "source": [
    "ppap = {'pen', 'apple', 'pineapple', 'pen'}\n",
    "pineapple = set('pineapple')\n",
    "pineapple"
   ]
  },
  {
   "cell_type": "code",
   "execution_count": 30,
   "metadata": {},
   "outputs": [
    {
     "name": "stdout",
     "output_type": "stream",
     "text": [
      "{'a': 'a', 'b': 'b'}\n"
     ]
    }
   ],
   "source": [
    "def show_kwargs(**kwargs):\n",
    "    print(str(kwargs))\n",
    "show_kwargs(a = \"a\", b =\"b\")"
   ]
  },
  {
   "cell_type": "code",
   "execution_count": 31,
   "metadata": {
    "collapsed": true
   },
   "outputs": [],
   "source": [
    "def kwargs_url(swerver, port, **query):\n",
    "    url = \"http://\" + server + \":\" + port + \"?\"\n",
    "    for key in query.keys():\n",
    "        url += key + \"=\" + query[key] + \"&\"\n",
    "        #url = url + key + \"=\" + query[key] + \"&\"\n",
    "    return url\n"
   ]
  },
  {
   "cell_type": "code",
   "execution_count": 40,
   "metadata": {},
   "outputs": [
    {
     "ename": "SyntaxError",
     "evalue": "name 'a' is parameter and global (<ipython-input-40-e9f56f3d4db2>, line 3)",
     "output_type": "error",
     "traceback": [
      "\u001b[0;36m  File \u001b[0;32m\"<ipython-input-40-e9f56f3d4db2>\"\u001b[0;36m, line \u001b[0;32m3\u001b[0m\n\u001b[0;31m    global a\u001b[0m\n\u001b[0m    ^\u001b[0m\n\u001b[0;31mSyntaxError\u001b[0m\u001b[0;31m:\u001b[0m name 'a' is parameter and global\n"
     ]
    }
   ],
   "source": [
    "a = \"hello\"\n",
    "def glob_test(a):\n",
    "    a += \" world\" \n",
    "    return a\n",
    "    \n",
    "print (glob_test(a))\n",
    "print(a)"
   ]
  },
  {
   "cell_type": "code",
   "execution_count": 39,
   "metadata": {},
   "outputs": [
    {
     "name": "stdout",
     "output_type": "stream",
     "text": [
      "helloworld\n",
      "hello\n"
     ]
    }
   ],
   "source": [
    "a = \"hello\"\n",
    "def glob_test(x):\n",
    "    x += \"world\" \n",
    "    return x\n",
    "print(glob_test(a))\n",
    "print(a)"
   ]
  },
  {
   "cell_type": "code",
   "execution_count": 43,
   "metadata": {},
   "outputs": [
    {
     "data": {
      "text/plain": [
       "True"
      ]
     },
     "execution_count": 43,
     "metadata": {},
     "output_type": "execute_result"
    }
   ],
   "source": [
    "def is_leap(year):\n",
    "    if year % 400 == 0:\n",
    "        return True\n",
    "    elif year % 100 == 0:\n",
    "        return False\n",
    "    elif year % 4 == 0:\n",
    "        return True\n",
    "    else:\n",
    "        return False\n",
    "\n",
    "    "
   ]
  },
  {
   "cell_type": "code",
   "execution_count": 65,
   "metadata": {},
   "outputs": [
    {
     "name": "stdout",
     "output_type": "stream",
     "text": [
      "is the year leap year?2100\n",
      "False\n"
     ]
    }
   ],
   "source": [
    "def is_leap(year):\n",
    "    if year % 4 == 0 and (year % 100 != 0 or year % 400 == 0):\n",
    "        return True\n",
    "    else:\n",
    "        return False\n",
    "\n",
    "test = int(input(\"is the year leap year?\"))\n",
    "print(is_leap(test))"
   ]
  },
  {
   "cell_type": "code",
   "execution_count": 139,
   "metadata": {
    "collapsed": true
   },
   "outputs": [],
   "source": [
    "f = open(\"Newfile.txt\", 'w')\n",
    "f.close()"
   ]
  },
  {
   "cell_type": "code",
   "execution_count": 140,
   "metadata": {
    "collapsed": true
   },
   "outputs": [],
   "source": [
    "f = open(\"Newfile.txt\", 'a')\n",
    "for i in range(1,11):\n",
    "    text = \"line %d. \\n\" % i\n",
    "    f.write(text)\n",
    "f.close()"
   ]
  },
  {
   "cell_type": "code",
   "execution_count": 141,
   "metadata": {},
   "outputs": [
    {
     "name": "stdout",
     "output_type": "stream",
     "text": [
      "line 1. \n",
      "\n"
     ]
    }
   ],
   "source": [
    "f = open(\"Newfile.txt\", 'r')\n",
    "text = f.readline()\n",
    "print(text)\n",
    "f.close()"
   ]
  },
  {
   "cell_type": "code",
   "execution_count": 142,
   "metadata": {},
   "outputs": [
    {
     "name": "stdout",
     "output_type": "stream",
     "text": [
      "line 1. \n",
      "\n",
      "line 2. \n",
      "\n",
      "line 3. \n",
      "\n",
      "line 4. \n",
      "\n",
      "line 5. \n",
      "\n",
      "line 6. \n",
      "\n",
      "line 7. \n",
      "\n",
      "line 8. \n",
      "\n",
      "line 9. \n",
      "\n",
      "line 10. \n",
      "\n"
     ]
    }
   ],
   "source": [
    "f = open(\"Newfile.txt\", 'r')\n",
    "texts = f.readlines()\n",
    "for text in texts:\n",
    "    print(text)\n",
    "f.close()"
   ]
  },
  {
   "cell_type": "code",
   "execution_count": 143,
   "metadata": {
    "collapsed": true
   },
   "outputs": [],
   "source": [
    "f = open(\"Newfile.txt\", 'a')\n",
    "for i in range(11, 20+1):\n",
    "    text = \"New line %d \\n\" % i\n",
    "    f.write(text)\n",
    "f.close()"
   ]
  },
  {
   "cell_type": "code",
   "execution_count": 136,
   "metadata": {},
   "outputs": [
    {
     "name": "stdout",
     "output_type": "stream",
     "text": [
      "iiiiiline 1. \n",
      "\n",
      "line 2. \n",
      "\n",
      "line 3. \n",
      "\n",
      "line 4. \n",
      "\n",
      "line 5. \n",
      "\n",
      "line 6. \n",
      "\n",
      "line 7. \n",
      "\n",
      "line 8. \n",
      "\n",
      "line 9. \n",
      "\n",
      "line 10. \n",
      "\n",
      "New line 11 \n",
      "\n",
      "New line 12 \n",
      "\n",
      "New line 13 \n",
      "\n",
      "New line 14 \n",
      "\n",
      "New line 15 \n",
      "\n",
      "New line 16 \n",
      "\n",
      "New line 17 \n",
      "\n",
      "New line 18 \n",
      "\n",
      "New line 19 \n",
      "\n",
      "New line 20 \n",
      "\n"
     ]
    }
   ],
   "source": [
    "f = open(\"Newfile.txt\", 'r')\n",
    "texts = f.readlines()\n",
    "for text in texts:\n",
    "    print(text)\n",
    "f.close()"
   ]
  },
  {
   "cell_type": "code",
   "execution_count": 146,
   "metadata": {
    "collapsed": true
   },
   "outputs": [],
   "source": [
    "with open(\"Newfile.txt\", 'a') as f:\n",
    "    for i in range(21, 25+1):\n",
    "        f.write(\"i\")"
   ]
  },
  {
   "cell_type": "code",
   "execution_count": 147,
   "metadata": {},
   "outputs": [
    {
     "name": "stdout",
     "output_type": "stream",
     "text": [
      "line 1. \n",
      "\n",
      "line 2. \n",
      "\n",
      "line 3. \n",
      "\n",
      "line 4. \n",
      "\n",
      "line 5. \n",
      "\n",
      "line 6. \n",
      "\n",
      "line 7. \n",
      "\n",
      "line 8. \n",
      "\n",
      "line 9. \n",
      "\n",
      "line 10. \n",
      "\n",
      "New line 11 \n",
      "\n",
      "New line 12 \n",
      "\n",
      "New line 13 \n",
      "\n",
      "New line 14 \n",
      "\n",
      "New line 15 \n",
      "\n",
      "New line 16 \n",
      "\n",
      "New line 17 \n",
      "\n",
      "New line 18 \n",
      "\n",
      "New line 19 \n",
      "\n",
      "New line 20 \n",
      "\n",
      "iiiiiiiiii\n"
     ]
    }
   ],
   "source": [
    "f = open(\"Newfile.txt\", 'r')\n",
    "texts = f.readlines()\n",
    "for text in texts:\n",
    "    print(text)\n",
    "f.close()"
   ]
  },
  {
   "cell_type": "code",
   "execution_count": 150,
   "metadata": {},
   "outputs": [
    {
     "name": "stdout",
     "output_type": "stream",
     "text": [
      "[Errno 2] No such file or directory: 'error.txt'\n"
     ]
    }
   ],
   "source": [
    "try:\n",
    "    f = open(\"error.txt\", 'r')\n",
    "except FileNotFoundError as e:\n",
    "    print(e)\n",
    "else: \n",
    "    text = f.read()\n",
    "    f.close()"
   ]
  },
  {
   "cell_type": "code",
   "execution_count": null,
   "metadata": {
    "collapsed": true
   },
   "outputs": [],
   "source": []
  }
 ],
 "metadata": {
  "kernelspec": {
   "display_name": "Python 3",
   "language": "python",
   "name": "python3"
  },
  "language_info": {
   "codemirror_mode": {
    "name": "ipython",
    "version": 3
   },
   "file_extension": ".py",
   "mimetype": "text/x-python",
   "name": "python",
   "nbconvert_exporter": "python",
   "pygments_lexer": "ipython3",
   "version": "3.6.2"
  }
 },
 "nbformat": 4,
 "nbformat_minor": 2
}
