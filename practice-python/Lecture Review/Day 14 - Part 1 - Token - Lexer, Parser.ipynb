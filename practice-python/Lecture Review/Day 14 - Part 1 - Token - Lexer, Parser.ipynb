{
 "cells": [
  {
   "cell_type": "code",
   "execution_count": 8,
   "metadata": {
    "collapsed": true
   },
   "outputs": [],
   "source": [
    "import token"
   ]
  },
  {
   "cell_type": "code",
   "execution_count": 9,
   "metadata": {},
   "outputs": [
    {
     "data": {
      "text/plain": [
       "{0: 'ENDMARKER',\n",
       " 1: 'NAME',\n",
       " 2: 'NUMBER',\n",
       " 3: 'STRING',\n",
       " 4: 'NEWLINE',\n",
       " 5: 'INDENT',\n",
       " 6: 'DEDENT',\n",
       " 7: 'LPAR',\n",
       " 8: 'RPAR',\n",
       " 9: 'LSQB',\n",
       " 10: 'RSQB',\n",
       " 11: 'COLON',\n",
       " 12: 'COMMA',\n",
       " 13: 'SEMI',\n",
       " 14: 'PLUS',\n",
       " 15: 'MINUS',\n",
       " 16: 'STAR',\n",
       " 17: 'SLASH',\n",
       " 18: 'VBAR',\n",
       " 19: 'AMPER',\n",
       " 20: 'LESS',\n",
       " 21: 'GREATER',\n",
       " 22: 'EQUAL',\n",
       " 23: 'DOT',\n",
       " 24: 'PERCENT',\n",
       " 25: 'LBRACE',\n",
       " 26: 'RBRACE',\n",
       " 27: 'EQEQUAL',\n",
       " 28: 'NOTEQUAL',\n",
       " 29: 'LESSEQUAL',\n",
       " 30: 'GREATEREQUAL',\n",
       " 31: 'TILDE',\n",
       " 32: 'CIRCUMFLEX',\n",
       " 33: 'LEFTSHIFT',\n",
       " 34: 'RIGHTSHIFT',\n",
       " 35: 'DOUBLESTAR',\n",
       " 36: 'PLUSEQUAL',\n",
       " 37: 'MINEQUAL',\n",
       " 38: 'STAREQUAL',\n",
       " 39: 'SLASHEQUAL',\n",
       " 40: 'PERCENTEQUAL',\n",
       " 41: 'AMPEREQUAL',\n",
       " 42: 'VBAREQUAL',\n",
       " 43: 'CIRCUMFLEXEQUAL',\n",
       " 44: 'LEFTSHIFTEQUAL',\n",
       " 45: 'RIGHTSHIFTEQUAL',\n",
       " 46: 'DOUBLESTAREQUAL',\n",
       " 47: 'DOUBLESLASH',\n",
       " 48: 'DOUBLESLASHEQUAL',\n",
       " 49: 'AT',\n",
       " 50: 'ATEQUAL',\n",
       " 51: 'RARROW',\n",
       " 52: 'ELLIPSIS',\n",
       " 53: 'OP',\n",
       " 54: 'AWAIT',\n",
       " 55: 'ASYNC',\n",
       " 56: 'ERRORTOKEN',\n",
       " 57: 'COMMENT',\n",
       " 58: 'NL',\n",
       " 59: 'BACKQUOTE',\n",
       " 60: 'COMMENT',\n",
       " 256: 'NT_OFFSET'}"
      ]
     },
     "execution_count": 9,
     "metadata": {},
     "output_type": "execute_result"
    }
   ],
   "source": [
    "token.tok_name"
   ]
  },
  {
   "cell_type": "code",
   "execution_count": 12,
   "metadata": {},
   "outputs": [],
   "source": [
    "s = open('test.py').read()"
   ]
  },
  {
   "cell_type": "code",
   "execution_count": 13,
   "metadata": {},
   "outputs": [
    {
     "data": {
      "text/plain": [
       "'def func(a, b):\\n\\treturn a + b\\n\\na = 10\\nb = 20\\n\\nc = func(a, b)\\nprint(c)'"
      ]
     },
     "execution_count": 13,
     "metadata": {},
     "output_type": "execute_result"
    }
   ],
   "source": [
    "s"
   ]
  },
  {
   "cell_type": "code",
   "execution_count": 17,
   "metadata": {
    "collapsed": true
   },
   "outputs": [],
   "source": [
    "from tokenize import tokenize\n",
    "from io import BytesIO"
   ]
  },
  {
   "cell_type": "code",
   "execution_count": 27,
   "metadata": {},
   "outputs": [],
   "source": [
    "g = tokenize(BytesIO(s.encode('utf-8')).readline)"
   ]
  },
  {
   "cell_type": "code",
   "execution_count": 28,
   "metadata": {},
   "outputs": [
    {
     "name": "stdout",
     "output_type": "stream",
     "text": [
      "TokenInfo(type=59 (BACKQUOTE), string='utf-8', start=(0, 0), end=(0, 0), line='')\n",
      "TokenInfo(type=1 (NAME), string='def', start=(1, 0), end=(1, 3), line='def func(a, b):\\n')\n",
      "TokenInfo(type=1 (NAME), string='func', start=(1, 4), end=(1, 8), line='def func(a, b):\\n')\n",
      "TokenInfo(type=53 (OP), string='(', start=(1, 8), end=(1, 9), line='def func(a, b):\\n')\n",
      "TokenInfo(type=1 (NAME), string='a', start=(1, 9), end=(1, 10), line='def func(a, b):\\n')\n",
      "TokenInfo(type=53 (OP), string=',', start=(1, 10), end=(1, 11), line='def func(a, b):\\n')\n",
      "TokenInfo(type=1 (NAME), string='b', start=(1, 12), end=(1, 13), line='def func(a, b):\\n')\n",
      "TokenInfo(type=53 (OP), string=')', start=(1, 13), end=(1, 14), line='def func(a, b):\\n')\n",
      "TokenInfo(type=53 (OP), string=':', start=(1, 14), end=(1, 15), line='def func(a, b):\\n')\n",
      "TokenInfo(type=4 (NEWLINE), string='\\n', start=(1, 15), end=(1, 16), line='def func(a, b):\\n')\n",
      "TokenInfo(type=5 (INDENT), string='\\t', start=(2, 0), end=(2, 1), line='\\treturn a + b\\n')\n",
      "TokenInfo(type=1 (NAME), string='return', start=(2, 1), end=(2, 7), line='\\treturn a + b\\n')\n",
      "TokenInfo(type=1 (NAME), string='a', start=(2, 8), end=(2, 9), line='\\treturn a + b\\n')\n",
      "TokenInfo(type=53 (OP), string='+', start=(2, 10), end=(2, 11), line='\\treturn a + b\\n')\n",
      "TokenInfo(type=1 (NAME), string='b', start=(2, 12), end=(2, 13), line='\\treturn a + b\\n')\n",
      "TokenInfo(type=4 (NEWLINE), string='\\n', start=(2, 13), end=(2, 14), line='\\treturn a + b\\n')\n",
      "TokenInfo(type=58 (NL), string='\\n', start=(3, 0), end=(3, 1), line='\\n')\n",
      "TokenInfo(type=6 (DEDENT), string='', start=(4, 0), end=(4, 0), line='a = 10\\n')\n",
      "TokenInfo(type=1 (NAME), string='a', start=(4, 0), end=(4, 1), line='a = 10\\n')\n",
      "TokenInfo(type=53 (OP), string='=', start=(4, 2), end=(4, 3), line='a = 10\\n')\n",
      "TokenInfo(type=2 (NUMBER), string='10', start=(4, 4), end=(4, 6), line='a = 10\\n')\n",
      "TokenInfo(type=4 (NEWLINE), string='\\n', start=(4, 6), end=(4, 7), line='a = 10\\n')\n",
      "TokenInfo(type=1 (NAME), string='b', start=(5, 0), end=(5, 1), line='b = 20\\n')\n",
      "TokenInfo(type=53 (OP), string='=', start=(5, 2), end=(5, 3), line='b = 20\\n')\n",
      "TokenInfo(type=2 (NUMBER), string='20', start=(5, 4), end=(5, 6), line='b = 20\\n')\n",
      "TokenInfo(type=4 (NEWLINE), string='\\n', start=(5, 6), end=(5, 7), line='b = 20\\n')\n",
      "TokenInfo(type=58 (NL), string='\\n', start=(6, 0), end=(6, 1), line='\\n')\n",
      "TokenInfo(type=1 (NAME), string='c', start=(7, 0), end=(7, 1), line='c = func(a, b)\\n')\n",
      "TokenInfo(type=53 (OP), string='=', start=(7, 2), end=(7, 3), line='c = func(a, b)\\n')\n",
      "TokenInfo(type=1 (NAME), string='func', start=(7, 4), end=(7, 8), line='c = func(a, b)\\n')\n",
      "TokenInfo(type=53 (OP), string='(', start=(7, 8), end=(7, 9), line='c = func(a, b)\\n')\n",
      "TokenInfo(type=1 (NAME), string='a', start=(7, 9), end=(7, 10), line='c = func(a, b)\\n')\n",
      "TokenInfo(type=53 (OP), string=',', start=(7, 10), end=(7, 11), line='c = func(a, b)\\n')\n",
      "TokenInfo(type=1 (NAME), string='b', start=(7, 12), end=(7, 13), line='c = func(a, b)\\n')\n",
      "TokenInfo(type=53 (OP), string=')', start=(7, 13), end=(7, 14), line='c = func(a, b)\\n')\n",
      "TokenInfo(type=4 (NEWLINE), string='\\n', start=(7, 14), end=(7, 15), line='c = func(a, b)\\n')\n",
      "TokenInfo(type=1 (NAME), string='print', start=(8, 0), end=(8, 5), line='print(c)')\n",
      "TokenInfo(type=53 (OP), string='(', start=(8, 5), end=(8, 6), line='print(c)')\n",
      "TokenInfo(type=1 (NAME), string='c', start=(8, 6), end=(8, 7), line='print(c)')\n",
      "TokenInfo(type=53 (OP), string=')', start=(8, 7), end=(8, 8), line='print(c)')\n",
      "TokenInfo(type=0 (ENDMARKER), string='', start=(9, 0), end=(9, 0), line='')\n"
     ]
    }
   ],
   "source": [
    "for token in g:\n",
    "    print (token)"
   ]
  },
  {
   "cell_type": "code",
   "execution_count": 29,
   "metadata": {
    "collapsed": true
   },
   "outputs": [],
   "source": [
    "import ast"
   ]
  },
  {
   "cell_type": "code",
   "execution_count": 30,
   "metadata": {
    "collapsed": true
   },
   "outputs": [],
   "source": [
    "#abstract syntax tree \n",
    "node = ast.parse(s)"
   ]
  },
  {
   "cell_type": "code",
   "execution_count": 32,
   "metadata": {},
   "outputs": [
    {
     "data": {
      "text/plain": [
       "<_ast.Module at 0x106e75908>"
      ]
     },
     "execution_count": 32,
     "metadata": {},
     "output_type": "execute_result"
    }
   ],
   "source": [
    "node"
   ]
  },
  {
   "cell_type": "code",
   "execution_count": 33,
   "metadata": {
    "collapsed": true
   },
   "outputs": [],
   "source": [
    "g = ast.walk(node)"
   ]
  },
  {
   "cell_type": "code",
   "execution_count": 34,
   "metadata": {},
   "outputs": [
    {
     "name": "stdout",
     "output_type": "stream",
     "text": [
      "<_ast.Module object at 0x106e75908>\n",
      "<_ast.FunctionDef object at 0x106e75a90>\n",
      "<_ast.Assign object at 0x106e75898>\n",
      "<_ast.Assign object at 0x106e75860>\n",
      "<_ast.Assign object at 0x106e758d0>\n",
      "<_ast.Expr object at 0x106e75710>\n",
      "<_ast.arguments object at 0x106e756a0>\n",
      "<_ast.Return object at 0x106e75be0>\n",
      "<_ast.Name object at 0x106e757f0>\n",
      "<_ast.Num object at 0x106e75518>\n",
      "<_ast.Name object at 0x106e75978>\n",
      "<_ast.Num object at 0x106e759b0>\n",
      "<_ast.Name object at 0x106e75940>\n",
      "<_ast.Call object at 0x106e757b8>\n",
      "<_ast.Call object at 0x106e75da0>\n",
      "<_ast.arg object at 0x106e75ba8>\n",
      "<_ast.arg object at 0x106e75b38>\n",
      "<_ast.BinOp object at 0x106e754a8>\n",
      "<_ast.Store object at 0x102fc33c8>\n",
      "<_ast.Store object at 0x102fc33c8>\n",
      "<_ast.Store object at 0x102fc33c8>\n",
      "<_ast.Name object at 0x106e75828>\n",
      "<_ast.Name object at 0x106e75e48>\n",
      "<_ast.Name object at 0x106e75c18>\n",
      "<_ast.Name object at 0x106e75eb8>\n",
      "<_ast.Name object at 0x106e75dd8>\n",
      "<_ast.Name object at 0x106e75ac8>\n",
      "<_ast.Add object at 0x102fc91d0>\n",
      "<_ast.Name object at 0x106e75b70>\n",
      "<_ast.Load object at 0x102fc32b0>\n",
      "<_ast.Load object at 0x102fc32b0>\n",
      "<_ast.Load object at 0x102fc32b0>\n",
      "<_ast.Load object at 0x102fc32b0>\n",
      "<_ast.Load object at 0x102fc32b0>\n",
      "<_ast.Load object at 0x102fc32b0>\n",
      "<_ast.Load object at 0x102fc32b0>\n"
     ]
    }
   ],
   "source": [
    "for node in g:\n",
    "    print(node)"
   ]
  },
  {
   "cell_type": "code",
   "execution_count": 36,
   "metadata": {
    "collapsed": true
   },
   "outputs": [],
   "source": [
    "import symtable"
   ]
  },
  {
   "cell_type": "code",
   "execution_count": 37,
   "metadata": {
    "collapsed": true
   },
   "outputs": [],
   "source": [
    "sym = symtable.symtable(s, 'test.py', 'exec')"
   ]
  },
  {
   "cell_type": "code",
   "execution_count": 38,
   "metadata": {},
   "outputs": [
    {
     "data": {
      "text/plain": [
       "<SymbolTable for top in test.py>"
      ]
     },
     "execution_count": 38,
     "metadata": {},
     "output_type": "execute_result"
    }
   ],
   "source": [
    "sym"
   ]
  },
  {
   "cell_type": "code",
   "execution_count": 39,
   "metadata": {},
   "outputs": [
    {
     "data": {
      "text/plain": [
       "'top'"
      ]
     },
     "execution_count": 39,
     "metadata": {},
     "output_type": "execute_result"
    }
   ],
   "source": [
    "sym.get_name()"
   ]
  },
  {
   "cell_type": "code",
   "execution_count": 40,
   "metadata": {},
   "outputs": [
    {
     "data": {
      "text/plain": [
       "[<symbol 'func'>, <symbol 'a'>, <symbol 'b'>, <symbol 'c'>, <symbol 'print'>]"
      ]
     },
     "execution_count": 40,
     "metadata": {},
     "output_type": "execute_result"
    }
   ],
   "source": [
    "sym.get_symbols()"
   ]
  },
  {
   "cell_type": "code",
   "execution_count": 41,
   "metadata": {},
   "outputs": [
    {
     "data": {
      "text/plain": [
       "[<Function SymbolTable for func in test.py>]"
      ]
     },
     "execution_count": 41,
     "metadata": {},
     "output_type": "execute_result"
    }
   ],
   "source": [
    "sym.get_children()"
   ]
  },
  {
   "cell_type": "code",
   "execution_count": 42,
   "metadata": {
    "collapsed": true
   },
   "outputs": [],
   "source": [
    "func_sym = sym.get_children()[0]"
   ]
  },
  {
   "cell_type": "code",
   "execution_count": 43,
   "metadata": {},
   "outputs": [
    {
     "data": {
      "text/plain": [
       "<Function SymbolTable for func in test.py>"
      ]
     },
     "execution_count": 43,
     "metadata": {},
     "output_type": "execute_result"
    }
   ],
   "source": [
    "func_sym"
   ]
  },
  {
   "cell_type": "code",
   "execution_count": 44,
   "metadata": {},
   "outputs": [
    {
     "data": {
      "text/plain": [
       "'func'"
      ]
     },
     "execution_count": 44,
     "metadata": {},
     "output_type": "execute_result"
    }
   ],
   "source": [
    "func_sym.get_name()"
   ]
  },
  {
   "cell_type": "code",
   "execution_count": 45,
   "metadata": {},
   "outputs": [
    {
     "data": {
      "text/plain": [
       "[<symbol 'a'>, <symbol 'b'>]"
      ]
     },
     "execution_count": 45,
     "metadata": {},
     "output_type": "execute_result"
    }
   ],
   "source": [
    "func_sym.get_symbols()"
   ]
  },
  {
   "cell_type": "code",
   "execution_count": 47,
   "metadata": {},
   "outputs": [],
   "source": [
    "import dis"
   ]
  },
  {
   "cell_type": "code",
   "execution_count": 48,
   "metadata": {
    "collapsed": true
   },
   "outputs": [],
   "source": [
    "g = dis.get_instructions(s)"
   ]
  },
  {
   "cell_type": "code",
   "execution_count": 49,
   "metadata": {},
   "outputs": [
    {
     "name": "stdout",
     "output_type": "stream",
     "text": [
      "LOAD_CONST            <code object func at 0x106e6f660, file \"<disassembly>\", line 1>\n",
      "LOAD_CONST            func\n",
      "MAKE_FUNCTION         0\n",
      "STORE_NAME            func\n",
      "LOAD_CONST            10\n",
      "STORE_NAME            a\n",
      "LOAD_CONST            20\n",
      "STORE_NAME            b\n",
      "LOAD_NAME             func\n",
      "LOAD_NAME             a\n",
      "LOAD_NAME             b\n",
      "CALL_FUNCTION         2\n",
      "STORE_NAME            c\n",
      "LOAD_NAME             print\n",
      "LOAD_NAME             c\n",
      "CALL_FUNCTION         1\n",
      "POP_TOP               None\n",
      "LOAD_CONST            None\n",
      "RETURN_VALUE          None\n"
     ]
    }
   ],
   "source": [
    "for inst in g:\n",
    "    print(inst.opname.ljust(20), end = '  ')\n",
    "    print(inst.argval)"
   ]
  },
  {
   "cell_type": "code",
   "execution_count": 50,
   "metadata": {
    "collapsed": true
   },
   "outputs": [],
   "source": [
    "#코드 오브젝트\n",
    "code = compile(s, 'test.py', 'exec')"
   ]
  },
  {
   "cell_type": "code",
   "execution_count": 51,
   "metadata": {},
   "outputs": [
    {
     "data": {
      "text/plain": [
       "<code object <module> at 0x106e6fd20, file \"test.py\", line 1>"
      ]
     },
     "execution_count": 51,
     "metadata": {},
     "output_type": "execute_result"
    }
   ],
   "source": [
    "code"
   ]
  },
  {
   "cell_type": "code",
   "execution_count": 52,
   "metadata": {},
   "outputs": [
    {
     "name": "stdout",
     "output_type": "stream",
     "text": [
      "  1           0 LOAD_CONST               0 (<code object func at 0x102be1930, file \"<dis>\", line 1>)\n",
      "              2 LOAD_CONST               1 ('func')\n",
      "              4 MAKE_FUNCTION            0\n",
      "              6 STORE_NAME               0 (func)\n",
      "\n",
      "  4           8 LOAD_CONST               2 (10)\n",
      "             10 STORE_NAME               1 (a)\n",
      "\n",
      "  5          12 LOAD_CONST               3 (20)\n",
      "             14 STORE_NAME               2 (b)\n",
      "\n",
      "  7          16 LOAD_NAME                0 (func)\n",
      "             18 LOAD_NAME                1 (a)\n",
      "             20 LOAD_NAME                2 (b)\n",
      "             22 CALL_FUNCTION            2\n",
      "             24 STORE_NAME               3 (c)\n",
      "\n",
      "  8          26 LOAD_NAME                4 (print)\n",
      "             28 LOAD_NAME                3 (c)\n",
      "             30 CALL_FUNCTION            1\n",
      "             32 POP_TOP\n",
      "             34 LOAD_CONST               4 (None)\n",
      "             36 RETURN_VALUE\n"
     ]
    }
   ],
   "source": [
    "dis.dis(s)"
   ]
  },
  {
   "cell_type": "code",
   "execution_count": 53,
   "metadata": {},
   "outputs": [
    {
     "data": {
      "text/plain": [
       "b'd\\x00d\\x01\\x84\\x00Z\\x00d\\x02Z\\x01d\\x03Z\\x02e\\x00e\\x01e\\x02\\x83\\x02Z\\x03e\\x04e\\x03\\x83\\x01\\x01\\x00d\\x04S\\x00'"
      ]
     },
     "execution_count": 53,
     "metadata": {},
     "output_type": "execute_result"
    }
   ],
   "source": [
    "code.co_code"
   ]
  },
  {
   "cell_type": "code",
   "execution_count": 54,
   "metadata": {},
   "outputs": [
    {
     "data": {
      "text/plain": [
       "38"
      ]
     },
     "execution_count": 54,
     "metadata": {},
     "output_type": "execute_result"
    }
   ],
   "source": [
    "len(code.co_ode)"
   ]
  },
  {
   "cell_type": "code",
   "execution_count": 55,
   "metadata": {},
   "outputs": [
    {
     "data": {
      "text/plain": [
       "(<code object func at 0x106e6f660, file \"test.py\", line 1>,\n",
       " 'func',\n",
       " 10,\n",
       " 20,\n",
       " None)"
      ]
     },
     "execution_count": 55,
     "metadata": {},
     "output_type": "execute_result"
    }
   ],
   "source": [
    "code.co_consts"
   ]
  },
  {
   "cell_type": "code",
   "execution_count": 57,
   "metadata": {},
   "outputs": [
    {
     "data": {
      "text/plain": [
       "('func', 'a', 'b', 'c', 'print')"
      ]
     },
     "execution_count": 57,
     "metadata": {},
     "output_type": "execute_result"
    }
   ],
   "source": [
    "code.co_names"
   ]
  },
  {
   "cell_type": "code",
   "execution_count": null,
   "metadata": {
    "collapsed": true
   },
   "outputs": [],
   "source": []
  }
 ],
 "metadata": {
  "kernelspec": {
   "display_name": "Python 3",
   "language": "python",
   "name": "python3"
  },
  "language_info": {
   "codemirror_mode": {
    "name": "ipython",
    "version": 3
   },
   "file_extension": ".py",
   "mimetype": "text/x-python",
   "name": "python",
   "nbconvert_exporter": "python",
   "pygments_lexer": "ipython3",
   "version": "3.6.2"
  }
 },
 "nbformat": 4,
 "nbformat_minor": 2
}
