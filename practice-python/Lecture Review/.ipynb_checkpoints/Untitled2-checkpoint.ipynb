{
 "cells": [
  {
   "cell_type": "code",
   "execution_count": null,
   "metadata": {},
   "outputs": [],
   "source": [
    "if __name__ == '__main__':\n",
    "    N = int(input())\n",
    "    li = []\n",
    "    command = \"\"\n",
    "    for i in range(N):\n",
    "        initial_input = input()\n",
    "\n",
    "        if \"insert\" in initial_input:\n",
    "            command, i, e = initial_input.split(\" \")\n",
    "            \n",
    "            li.insert(int(i), int(e))\n",
    "        elif command == \"remove\" or command == \"append\":\n",
    "            command, e = initial_input.split(\" \")\n",
    "            if command == \"remove\":\n",
    "                li.remove(e)\n",
    "            else:\n",
    "                li.insert(e)\n",
    "        elif command == \"print\":\n",
    "            print(li)\n",
    "        elif command == \"sort\":\n",
    "            li.sort()\n",
    "        elif command == \"pop\":\n",
    "            li.pop()\n",
    "        elif command == \"reverse\":\n",
    "            li.reverse()\n",
    "        else:\n",
    "            continue\n",
    "        print(li)\n",
    "   "
   ]
  },
  {
   "cell_type": "markdown",
   "metadata": {},
   "source": []
  },
  {
   "cell_type": "code",
   "execution_count": null,
   "metadata": {
    "collapsed": true
   },
   "outputs": [],
   "source": []
  }
 ],
 "metadata": {
  "kernelspec": {
   "display_name": "Python 3",
   "language": "python",
   "name": "python3"
  }
 },
 "nbformat": 4,
 "nbformat_minor": 2
}
