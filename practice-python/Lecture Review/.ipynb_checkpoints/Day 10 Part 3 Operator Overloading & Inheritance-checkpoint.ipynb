{
 "cells": [
  {
   "cell_type": "code",
   "execution_count": 9,
   "metadata": {
    "collapsed": true
   },
   "outputs": [],
   "source": [
    "#operator overloading\n",
    "#(x,y)\n",
    "class Point:\n",
    "    def __init__(self, x = 0, y = 0):\n",
    "        self.x = x\n",
    "        self.y = y\n",
    "    def get_point(self):\n",
    "        #returns a tuple\n",
    "        return self.x, self.y\n",
    "    def set_point(self, x, y):\n",
    "        self.x = x\n",
    "        self.y = y\n",
    "              \n",
    "    def __str__(self):\n",
    "        return '({}, {})'.format(self.x, self.y)"
   ]
  },
  {
   "cell_type": "code",
   "execution_count": 10,
   "metadata": {
    "collapsed": true
   },
   "outputs": [],
   "source": [
    "p1 = Point()"
   ]
  },
  {
   "cell_type": "code",
   "execution_count": 11,
   "metadata": {},
   "outputs": [
    {
     "name": "stdout",
     "output_type": "stream",
     "text": [
      "(0, 0)\n"
     ]
    }
   ],
   "source": [
    "print(p1)"
   ]
  },
  {
   "cell_type": "code",
   "execution_count": 12,
   "metadata": {
    "collapsed": true
   },
   "outputs": [],
   "source": [
    "p1.set_point(3, 3)"
   ]
  },
  {
   "cell_type": "code",
   "execution_count": 13,
   "metadata": {},
   "outputs": [
    {
     "name": "stdout",
     "output_type": "stream",
     "text": [
      "(3, 3)\n"
     ]
    }
   ],
   "source": [
    "print(p1)"
   ]
  },
  {
   "cell_type": "code",
   "execution_count": 14,
   "metadata": {},
   "outputs": [
    {
     "ename": "TypeError",
     "evalue": "unsupported operand type(s) for +: 'Point' and 'int'",
     "output_type": "error",
     "traceback": [
      "\u001b[0;31m---------------------------------------------------------------------------\u001b[0m",
      "\u001b[0;31mTypeError\u001b[0m                                 Traceback (most recent call last)",
      "\u001b[0;32m<ipython-input-14-3d3b17e60f34>\u001b[0m in \u001b[0;36m<module>\u001b[0;34m()\u001b[0m\n\u001b[1;32m      1\u001b[0m \u001b[0;31m#does this work?\u001b[0m\u001b[0;34m\u001b[0m\u001b[0;34m\u001b[0m\u001b[0m\n\u001b[0;32m----> 2\u001b[0;31m \u001b[0mp2\u001b[0m \u001b[0;34m=\u001b[0m \u001b[0mp1\u001b[0m \u001b[0;34m+\u001b[0m \u001b[0;36m5\u001b[0m\u001b[0;34m\u001b[0m\u001b[0m\n\u001b[0m",
      "\u001b[0;31mTypeError\u001b[0m: unsupported operand type(s) for +: 'Point' and 'int'"
     ]
    }
   ],
   "source": [
    "#does this work?\n",
    "p2 = p1 + 5"
   ]
  },
  {
   "cell_type": "code",
   "execution_count": 15,
   "metadata": {
    "collapsed": true
   },
   "outputs": [],
   "source": [
    "#of course not. \n",
    "#however, if we do operator overloading, we can do this."
   ]
  },
  {
   "cell_type": "code",
   "execution_count": 16,
   "metadata": {
    "collapsed": true
   },
   "outputs": [],
   "source": [
    "#operator overloading: making the operator work \n",
    "#for an object and another different object "
   ]
  },
  {
   "cell_type": "code",
   "execution_count": 64,
   "metadata": {
    "collapsed": true
   },
   "outputs": [],
   "source": [
    "#operator overloading\n",
    "#(x,y)\n",
    "class Point:\n",
    "    def __init__(self, x = 0, y = 0):\n",
    "        self.x = x\n",
    "        self.y = y\n",
    "    def get_point(self):\n",
    "        #returns a tuple\n",
    "        return self.x, self.y\n",
    "    def set_point(self, x, y):\n",
    "        self.x = x\n",
    "        self.y = y\n",
    "        \n",
    "    def __add__(self, other):\n",
    "        _x = self.x + other\n",
    "        _y = self.y + other\n",
    "        return Point(_x, _y)\n",
    "    \n",
    "    def __radd__(self, other):\n",
    "        return self.__add__(other)\n",
    "        \n",
    "    def __sub__(self, other):\n",
    "        _x = self.x - other\n",
    "        _y = self.y - other\n",
    "        return Point(_x, _y)\n",
    "    \n",
    "    def __rsub__(self, other):\n",
    "        _x = other - self.x\n",
    "        _y = other - self.y\n",
    "        return Point(_x, _y)\n",
    "\n",
    "    def __str__(self):\n",
    "        return '({}, {})'.format(self.x, self.y)"
   ]
  },
  {
   "cell_type": "code",
   "execution_count": 65,
   "metadata": {},
   "outputs": [
    {
     "name": "stdout",
     "output_type": "stream",
     "text": [
      "(3, 3)\n",
      "(8, 8)\n"
     ]
    }
   ],
   "source": [
    "p1 = Point()\n",
    "p1.set_point(3, 3)\n",
    "p2 = p1 + 5\n",
    "print(p1)\n",
    "print(p2)"
   ]
  },
  {
   "cell_type": "code",
   "execution_count": 66,
   "metadata": {},
   "outputs": [],
   "source": [
    "p3 = 5 + p1"
   ]
  },
  {
   "cell_type": "code",
   "execution_count": 67,
   "metadata": {},
   "outputs": [
    {
     "name": "stdout",
     "output_type": "stream",
     "text": [
      "(8, 8)\n"
     ]
    }
   ],
   "source": [
    "print(p3)"
   ]
  },
  {
   "cell_type": "code",
   "execution_count": 68,
   "metadata": {},
   "outputs": [
    {
     "name": "stdout",
     "output_type": "stream",
     "text": [
      "(2, 2)\n"
     ]
    }
   ],
   "source": [
    "p4 = p1 - 1\n",
    "print(p4)"
   ]
  },
  {
   "cell_type": "code",
   "execution_count": 69,
   "metadata": {},
   "outputs": [
    {
     "name": "stdout",
     "output_type": "stream",
     "text": [
      "(-3, -3)\n"
     ]
    }
   ],
   "source": [
    "p5 = 5 - p3\n",
    "print(p5)"
   ]
  },
  {
   "cell_type": "code",
   "execution_count": 91,
   "metadata": {
    "collapsed": true
   },
   "outputs": [],
   "source": [
    "#Inheritance\n",
    "class Computer:\n",
    "    def __init__(self, CPU, RAM):\n",
    "        self.CPU = CPU\n",
    "        self.RAM = RAM\n",
    "    def browse(self):\n",
    "        print('browse')\n",
    "    def work(self):\n",
    "        print('work')\n",
    "        \n",
    "#Base Class(parent)의 모든 멤버와 메소드를 받음\n",
    "#Reusability \n",
    "#BUT IF THERE IS ANYTHING THAT THE CHILD SHOULDNOT DO THAT THE PARENT DOES,\n",
    "#YOU SHOULD NOT USE INHERITANCE\n",
    "class Laptop(Computer):\n",
    "    pass\n",
    "    #additional member or additional methods can be defined. \n",
    "    def __init__(self, CPU, RAM, battery):\n",
    "        #call the init method of the \"super class\"/Parent class\n",
    "        super().__init__(CPU, RAM) \n",
    "        self.battery = battery\n",
    "        \n",
    "    def move(self, where):\n",
    "        print(\"move to {}\".format(where))"
   ]
  },
  {
   "cell_type": "code",
   "execution_count": 92,
   "metadata": {
    "collapsed": true
   },
   "outputs": [],
   "source": [
    "l1 = Laptop('intel', 16, 'powerful')"
   ]
  },
  {
   "cell_type": "code",
   "execution_count": 93,
   "metadata": {},
   "outputs": [
    {
     "data": {
      "text/plain": [
       "'intel'"
      ]
     },
     "execution_count": 93,
     "metadata": {},
     "output_type": "execute_result"
    }
   ],
   "source": [
    "l1.CPU"
   ]
  },
  {
   "cell_type": "code",
   "execution_count": 144,
   "metadata": {},
   "outputs": [
    {
     "data": {
      "text/plain": [
       "'powerful'"
      ]
     },
     "execution_count": 144,
     "metadata": {},
     "output_type": "execute_result"
    }
   ],
   "source": [
    "l1.battery"
   ]
  },
  {
   "cell_type": "code",
   "execution_count": 145,
   "metadata": {},
   "outputs": [
    {
     "name": "stdout",
     "output_type": "stream",
     "text": [
      "move to office\n"
     ]
    }
   ],
   "source": [
    "l1.move('office')"
   ]
  },
  {
   "cell_type": "code",
   "execution_count": 146,
   "metadata": {
    "collapsed": true
   },
   "outputs": [],
   "source": [
    "# HAS-A\n",
    "# A policeman HAS-A gun'\n",
    "# ~ has ~~ | ~~ is part of ~\n",
    "#composition(합성)(객체가 같이 죽을때 - 바인딩이 강함) or \n",
    "#aggrgation(통합) (객체가 같이 죽지 않을때 - 경찰 총의 경우 경찰이 없어져도 총이 남을 때)\n",
    "#구현은 어짜피 똑같음. uml 설계하는 사람들은 따지나, 일반적인 구현방법은 같음"
   ]
  },
  {
   "cell_type": "code",
   "execution_count": 154,
   "metadata": {
    "collapsed": true
   },
   "outputs": [],
   "source": [
    "class Gun:\n",
    "    def __init__(self, gun_kind):\n",
    "        self.gun_kind = gun_kind\n",
    "        \n",
    "    def bang(self):\n",
    "        print('bang bang')\n",
    "\n",
    "class Police:\n",
    "    def __init__(self, gun_kind = ''):\n",
    "        if not gun_kind:\n",
    "            self.gun = None\n",
    "        else:\n",
    "            #멤버가 Gun class의 instance를 갖게 만든다\n",
    "            self.gun = Gun(gun_kind)\n",
    "            \n",
    "    def get_gun(self, gun):\n",
    "        self.gun = gun\n",
    "        \n",
    "    def shoot(self):\n",
    "        if not self.gun:\n",
    "            return\n",
    "        self.gun.bang()"
   ]
  },
  {
   "cell_type": "code",
   "execution_count": 155,
   "metadata": {
    "collapsed": true
   },
   "outputs": [],
   "source": [
    "p1 = Police('리볼버')"
   ]
  },
  {
   "cell_type": "code",
   "execution_count": 156,
   "metadata": {},
   "outputs": [
    {
     "name": "stdout",
     "output_type": "stream",
     "text": [
      "bang bang\n"
     ]
    }
   ],
   "source": [
    "p1.shoot()"
   ]
  },
  {
   "cell_type": "code",
   "execution_count": 157,
   "metadata": {
    "collapsed": true
   },
   "outputs": [],
   "source": [
    "p2 = Police()"
   ]
  },
  {
   "cell_type": "code",
   "execution_count": 158,
   "metadata": {
    "collapsed": true
   },
   "outputs": [],
   "source": [
    "p2.shoot()"
   ]
  },
  {
   "cell_type": "code",
   "execution_count": 159,
   "metadata": {
    "collapsed": true
   },
   "outputs": [],
   "source": [
    "gun = Gun('기관총')"
   ]
  },
  {
   "cell_type": "code",
   "execution_count": 165,
   "metadata": {},
   "outputs": [],
   "source": [
    "p2.get_gun(gun)"
   ]
  },
  {
   "cell_type": "code",
   "execution_count": null,
   "metadata": {},
   "outputs": [],
   "source": []
  },
  {
   "cell_type": "code",
   "execution_count": null,
   "metadata": {
    "collapsed": true
   },
   "outputs": [],
   "source": []
  },
  {
   "cell_type": "code",
   "execution_count": null,
   "metadata": {
    "collapsed": true
   },
   "outputs": [],
   "source": []
  }
 ],
 "metadata": {
  "kernelspec": {
   "display_name": "Python 3",
   "language": "python",
   "name": "python3"
  },
  "language_info": {
   "codemirror_mode": {
    "name": "ipython",
    "version": 3
   },
   "file_extension": ".py",
   "mimetype": "text/x-python",
   "name": "python",
   "nbconvert_exporter": "python",
   "pygments_lexer": "ipython3",
   "version": "3.6.2"
  }
 },
 "nbformat": 4,
 "nbformat_minor": 2
}
