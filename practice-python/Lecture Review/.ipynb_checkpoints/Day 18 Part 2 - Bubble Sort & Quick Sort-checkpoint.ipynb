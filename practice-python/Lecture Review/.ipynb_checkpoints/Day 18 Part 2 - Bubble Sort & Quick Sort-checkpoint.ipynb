{
 "cells": [
  {
   "cell_type": "code",
   "execution_count": null,
   "metadata": {},
   "outputs": [],
   "source": [
    "def bubble_sort(data):\n",
    "    for i in range(0, len(data) - 1):\n",
    "        for k in range(0, len(data) - i - 1):\n",
    "            if li[k] > li[k + 1]:\n",
    "                li[k], li[k + 1] = li[k + 1], li[k]\n",
    "\n",
    "def bubble_sort_boolean(data, reverse = False):\n",
    "    if not reverse:\n",
    "        for i in range(0, len(data) - 1):\n",
    "            for k in range(0, len(data) - i - 1):\n",
    "                if li[k] > li[k + 1]:\n",
    "                    li[k], li[k + 1] = li[k + 1], li[k]\n",
    "    else:\n",
    "        for i in range(0, len(data) - 1):\n",
    "            for k in range(0, len(data) - i - 1):\n",
    "                if li[k] < li[k + 1]:\n",
    "                    li[k], li[k + 1] = li[k + 1], li[k]\n",
    "\n",
    "if __name__ == \"__main__\":\n",
    "    li = [2, 3, 5, 2, 3, 8, 6, 7, 10, 8, 1, 4]\n",
    "    bubble_sort_boolean(li, True)\n",
    "    print(li)\n"
   ]
  },
  {
   "cell_type": "code",
   "execution_count": null,
   "metadata": {
    "collapsed": true
   },
   "outputs": [],
   "source": [
    "# Quick Sort\n"
   ]
  },
  {
   "cell_type": "code",
   "execution_count": null,
   "metadata": {},
   "outputs": [],
   "source": [
    "def quick_sort(data, start, end):\n",
    "    ''''Recursion 출구조건'''\n",
    "    if start >= end:\n",
    "        return\n",
    "\n",
    "    left = start\n",
    "    right = end\n",
    "    '''1. pivot 을 array의 중앙에 둔다. '''\n",
    "    pivot = data[(start + end) // 2]\n",
    "\n",
    "\n",
    "    while left <= right:\n",
    "        '''가장 왼쪽 index부터 값을 pivot과 비교하여 pivot 보다 값이 높을 때 멈춘다'''\n",
    "        while li[left] < pivot:\n",
    "            left += 1\n",
    "        '''가장 오른쪽 index부터 값을 pivot과 비교하여 pivot 보다 값이 작을 때 멈춘다'''\n",
    "        while li[right] > pivot:\n",
    "            right -= 1\n",
    "        '''두 값을 바꾼다'''\n",
    "        if left <= right:\n",
    "        \tli[left], li[right] = li[right], li[left]\n",
    "        \tleft += 1\n",
    "        \tright -= 1\n",
    "        \n",
    "    quick_sort(data, start, right)\n",
    "    quick_sort(data, left, end)\n",
    "    \n",
    "if __name__ == \"__main__\":\n",
    "    li = [7, 5, 3, 5, 4, 2, 8]\n",
    "    start = 0\n",
    "    end = len(li) - 1\n",
    "    quick_sort(li, start, end)\n",
    "    print(li)"
   ]
  },
  {
   "cell_type": "code",
   "execution_count": null,
   "metadata": {},
   "outputs": [],
   "source": []
  },
  {
   "cell_type": "code",
   "execution_count": null,
   "metadata": {
    "collapsed": true
   },
   "outputs": [],
   "source": []
  }
 ],
 "metadata": {
  "kernelspec": {
   "display_name": "Python 3",
   "language": "python",
   "name": "python3"
  },
  "language_info": {
   "codemirror_mode": {
    "name": "ipython",
    "version": 3
   },
   "file_extension": ".py",
   "mimetype": "text/x-python",
   "name": "python",
   "nbconvert_exporter": "python",
   "pygments_lexer": "ipython3",
   "version": "3.6.2"
  }
 },
 "nbformat": 4,
 "nbformat_minor": 2
}
