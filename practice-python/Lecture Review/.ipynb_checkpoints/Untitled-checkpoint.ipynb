{
 "cells": [
  {
   "cell_type": "code",
   "execution_count": null,
   "metadata": {
    "collapsed": true
   },
   "outputs": [],
   "source": [
    "names = ['raymond', 'rachel', 'matthew']\n",
    "colors = ['red', 'green', 'blue', 'yellow']\n",
    "for name, color in zip(names, colors):\n",
    "    print(name, '--->', color)\n"
   ]
  },
  {
   "cell_type": "code",
   "execution_count": null,
   "metadata": {
    "collapsed": true
   },
   "outputs": [],
   "source": [
    "blocks = []\n",
    "\n",
    "while True:\n",
    "    block = f.read(32)\n",
    "    if block == '':\n",
    "        break\n",
    "    blocks.append(block)\n"
   ]
  },
  {
   "cell_type": "code",
   "execution_count": null,
   "metadata": {
    "collapsed": true
   },
   "outputs": [],
   "source": [
    "import sys\n",
    "\n",
    "def solve(a0, a1, a2, b0, b1, b2):\n",
    "    alice_score = 0\n",
    "    bob_score = 0\n",
    "    for i in range(2):\n",
    "        if \"a\" + str(i)) > int(\"b\" + str(i)):\n",
    "            alice_score += 1\n",
    "            print(\"alice_score_called\")\n",
    "            print(int(\"a\" + str(i)))\n",
    "            print(int(\"b\" + str(i)))\n",
    "            print(alice_score)\n",
    "        elif int('a' + str(i)) < int(\"b\" + str(i)):\n",
    "            bob_score += 1\n",
    "            print(\"bob_score_called\")\n",
    "            print(int(\"a\" + str(i)))\n",
    "            print(int(\"b\" + str(i)))\n",
    "            print(alice_score)\n",
    "    return [alice_score, bob_score]\n",
    "            \n",
    "    \n",
    "a0, a1, a2 = map(lambda x: int(x), input().strip().split(' '))\n",
    "b0, b1, b2 = map(lambda x: int(x), input().strip().split(' '))\n",
    "result = solve(a0, a1, a2, b0, b1, b2)\n"
   ]
  },
  {
   "cell_type": "code",
   "execution_count": 14,
   "metadata": {},
   "outputs": [
    {
     "name": "stdout",
     "output_type": "stream",
     "text": [
      "5 1\n",
      "1 2 3 4 5\n",
      "2\n",
      "5\n",
      "2\n"
     ]
    }
   ],
   "source": [
    "import sys\n",
    "\n",
    "n,k = [int(x) for x in input().strip().split(' ')]\n",
    "x = sorted([int(x_temp) for x_temp in input().strip().split(' ')])\n",
    "prev_x, max_x = min(x), max(x)\n",
    "transmitter_loc = []\n",
    "for i in range(n - 1):\n",
    "    if transmitter_loc and x[i] - transmitter_loc[-1] <= k:\n",
    "        continue\n",
    "    if (x[i + 1] - x[i]) > k:\n",
    "        transmitter_loc.append(x[i])\n",
    "    elif (x[i + 1] - x[i]) == k:\n",
    "        transmitter_loc.append(x[i + 1])\n",
    "    else:\n",
    "        \n",
    "        \n",
    "print(len(transmitter_loc))"
   ]
  },
  {
   "cell_type": "markdown",
   "metadata": {
    "collapsed": true
   },
   "source": []
  },
  {
   "cell_type": "code",
   "execution_count": 57,
   "metadata": {},
   "outputs": [
    {
     "name": "stdout",
     "output_type": "stream",
     "text": [
      "          #\n",
      "        # #\n",
      "      # # #\n",
      "    # # # #\n",
      "  # # # # #\n",
      "# # # # # #\n"
     ]
    }
   ],
   "source": []
  },
  {
   "cell_type": "code",
   "execution_count": 59,
   "metadata": {},
   "outputs": [
    {
     "name": "stdout",
     "output_type": "stream",
     "text": [
      "12:05:39AM\n",
      "24:05:39\n"
     ]
    }
   ],
   "source": [
    "#!/bin/python3\n",
    "\n",
    "import sys\n",
    "\n",
    "def timeConversion(s):\n",
    "    #if 1~11AM OR 12PM\n",
    "    if((s[-2:] == \"AM\"and int(s[:2]) < 12) or (s[-2:] == \"PM\" and s[:2] == \"12\")):\n",
    "        return s[:-2]\n",
    "    #if 12AM or 1~11PM\n",
    "    elif((s[-2:] == \"AM\" and s[:2] == \"12\") or (s[-2:] == \"PM\" and int(s[:2]) < 12)):\n",
    "        return str(int(s[:2]) + 12) + s[2:-2]\n",
    "\n",
    "s = input().strip()\n",
    "result = timeConversion(s)\n",
    "print(result)\n"
   ]
  },
  {
   "cell_type": "code",
   "execution_count": 76,
   "metadata": {},
   "outputs": [
    {
     "name": "stdout",
     "output_type": "stream",
     "text": [
      "1\n",
      "1 2\n",
      "1 2\n"
     ]
    },
    {
     "data": {
      "text/plain": [
       "[2]"
      ]
     },
     "execution_count": 76,
     "metadata": {},
     "output_type": "execute_result"
    }
   ],
   "source": [
    "N = int(input())\n",
    "\n",
    "# Get the array \n",
    "numArray1 = list(map(int, input().split()))\n",
    "numArray2 = list(map(int, input().split()))\n",
    "\n",
    "sumArray = []\n",
    "sumArray = [numArray1[i] + numArray2[i] for i in range(N)]\n",
    "sumArray"
   ]
  },
  {
   "cell_type": "markdown",
   "metadata": {},
   "source": []
  },
  {
   "cell_type": "code",
   "execution_count": 88,
   "metadata": {},
   "outputs": [
    {
     "name": "stdout",
     "output_type": "stream",
     "text": [
      "1\n",
      "67\n",
      "67\n"
     ]
    }
   ],
   "source": [
    "def solve(grades, n):\n",
    "    for i in range(n):\n",
    "        next_multiple_five = ((grades[i] // 5) + 1) * 5\n",
    "        original_grade = grades[i]\n",
    "        if abs(grades[i] - next_multiple_five) < 3 and grades[i] > 38:\n",
    "            grades[i] = next_multiple_five\n",
    "        else:\n",
    "            grades[i] = original_grade\n",
    "    return grades\n",
    "\n",
    "n = int(input().strip())\n",
    "grades = []\n",
    "grades_i = 0\n",
    "for grades_i in range(n):\n",
    "   grades_t = int(input().strip())\n",
    "   grades.append(grades_t)\n",
    "    \n",
    "result = solve(grades, n)\n",
    "print (\"\\n\".join(map(str, result)))"
   ]
  },
  {
   "cell_type": "code",
   "execution_count": null,
   "metadata": {
    "collapsed": true
   },
   "outputs": [],
   "source": [
    "\n"
   ]
  }
 ],
 "metadata": {
  "kernelspec": {
   "display_name": "Python 3",
   "language": "python",
   "name": "python3"
  },
  "language_info": {
   "codemirror_mode": {
    "name": "ipython",
    "version": 3
   },
   "file_extension": ".py",
   "mimetype": "text/x-python",
   "name": "python",
   "nbconvert_exporter": "python",
   "pygments_lexer": "ipython3",
   "version": "3.6.2"
  }
 },
 "nbformat": 4,
 "nbformat_minor": 2
}
