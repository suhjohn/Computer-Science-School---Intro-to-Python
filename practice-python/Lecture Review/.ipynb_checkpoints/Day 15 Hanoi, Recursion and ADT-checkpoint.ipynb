{
 "cells": [
  {
   "cell_type": "code",
   "execution_count": null,
   "metadata": {
    "collapsed": true
   },
   "outputs": [],
   "source": [
    "#hanoi Tower\n",
    "def hanoi_tower(num, _from, _by, _to):\n",
    "    if num == 1:\n",
    "        print('num == 1 {}에서 {}로 {}번째 쟁반이 이동'.format(_from, _to, num))\n",
    "        return\n",
    "    \n",
    "    print('a')\n",
    "    hanoi_tower(num - 1, _from, _to, _by)\n",
    "    print('{}에서 {}로 {}번째 쟁반이 이동'.format(_from, _to, num))        \n",
    "    return hanoi_tower(num - 1, _by, _from, _to) \n",
    "\n",
    "\n",
    "hanoi_tower(3, 'A', 'B', 'C')\n",
    "    \n",
    "        #무슨수를 써도 위에 두개를 by 로 -> 무슨수를 써서 밑에를 to로 -> 무슨수를 써서 위의 by를 to로\n",
    "    #1. 반복되는 부분을 찾고 \n",
    "    #2. 패턴을 만들어라 \n",
    "    #알고리즘 연습 웹사이트 : 해커랭크\n",
    "    \n"
   ]
  },
  {
   "cell_type": "code",
   "execution_count": null,
   "metadata": {},
   "outputs": [],
   "source": [
    "def binary_search(data, target):\n",
    "    start = 0\n",
    "    end = len(data) - 1\n",
    "    while start <= end:\n",
    "        mid = (start + end) // 2\n",
    "        if target == data[mid]:\n",
    "            return mid \n",
    "        elif target <= data[mid]:\n",
    "            end = mid - 1 \n",
    "        else:\n",
    "            start = mid + 1\n",
    "        \n",
    "    return None\n",
    "    "
   ]
  },
  {
   "cell_type": "code",
   "execution_count": null,
   "metadata": {},
   "outputs": [],
   "source": [
    "def binary_search(data, target, start, end):\n",
    "    if start > end:\n",
    "        return None \n",
    "    \n",
    "    mid = (start + end) // 2\n",
    "    if target == data[mid]:\n",
    "        return mid\n",
    "    elif target <= data[mid]:\n",
    "        end = mid - 1\n",
    "    else:\n",
    "        start = mid + 1\n",
    "    return binary_search(data, target, start, end)\n",
    "\n",
    "data = [i**2 for i in range(1, 11)]\n",
    "target = 5\n",
    "start = 0\n",
    "end = len(data) - 1\n",
    "idx = binary_search(data, target, start, end)\n",
    "idx"
   ]
  },
  {
   "cell_type": "code",
   "execution_count": null,
   "metadata": {},
   "outputs": [],
   "source": [
    "#n\n",
    "# 1 + 2 + 3...n\n",
    "\n",
    "def sum_to_n(n):\n",
    "    if n == 1:\n",
    "        return n\n",
    "    \n",
    "    return sum_to_n(n-1) + n\n",
    "    \n",
    "    \n",
    "sum_to_n(100)"
   ]
  },
  {
   "cell_type": "code",
   "execution_count": null,
   "metadata": {},
   "outputs": [],
   "source": [
    "def sum_to_num(n):\n",
    "    return (n * (1 + n)) / 2\n",
    "sum_to_num(100)"
   ]
  },
  {
   "cell_type": "code",
   "execution_count": 1,
   "metadata": {},
   "outputs": [],
   "source": [
    "#ADT\n",
    "class Node:\n",
    "    def __init__(self, data):\n",
    "        self.data = data\n",
    "        self.next = None\n",
    "    #we shouuld have the following but just for the sake of class\n",
    "    #we will skip\n",
    "#    def get_data():\n",
    "#        pass\n",
    "#    def set_data():\n",
    "#        pass\n",
    "        #how to check if we can know the node is deleted? refer above\n",
    "    def __del__(self):\n",
    "        print('Node of {} is deleted!'.format(self.data))"
   ]
  },
  {
   "cell_type": "code",
   "execution_count": 2,
   "metadata": {},
   "outputs": [
    {
     "name": "stdout",
     "output_type": "stream",
     "text": [
      "Node of 2 is deleted!\n",
      "Node of 2 is deleted!\n",
      "Node of 2 is deleted!\n",
      "3 1 5 10 7 "
     ]
    }
   ],
   "source": [
    "class LinkedList:\n",
    "    def __init__(self):\n",
    "        self.head = None\n",
    "        self.tail = None\n",
    "        \n",
    "        self.before = None\n",
    "        self.current = None\n",
    "        \n",
    "        self.num_data = 0\n",
    "        \n",
    "    def empty(self):\n",
    "        return self.num_data == 0\n",
    "        \n",
    "    def size(self):\n",
    "        return self.num_data\n",
    "    \n",
    "    def append(self, data):\n",
    "        new_node = Node(data)\n",
    "        \n",
    "        if self.empty():\n",
    "            self.head = new_node\n",
    "            self.tail = new_node\n",
    "        else:\n",
    "            self.tail.next = new_node\n",
    "            self.tail = new_node\n",
    "        self.num_data += 1\n",
    "        \n",
    "        #current tail이 new node를 가르키게 함\n",
    "        #tail 이 new node로 옮긴다\n",
    "    \n",
    "    def traverse(self, mode = 'next'):\n",
    "        #current : 현재 돌고(순회하고)있는 위치\n",
    "        #before : current 바로 전\n",
    "        #before는 삭제할 때 반드시 필요\n",
    "        #traverse always starts with mode 'start'. After it's already been\n",
    "        #called once, do 'next'. We should do error handling for this \n",
    "        #but let's just assume that the user knows that 'start' should come\n",
    "        #first\n",
    "        if mode == 'first':\n",
    "            self.before = self.head\n",
    "            self.current = self.head\n",
    "        else:\n",
    "            if self.current.next == None:\n",
    "                return None\n",
    "            else:\n",
    "                self.before = self.current\n",
    "                self.current = self.current.next\n",
    "        \n",
    "        return self.current.data\n",
    "    \n",
    "    def remove(self):\n",
    "        #remove by dropping ref count to 0 instead of using del\n",
    "        #how to check if we can know the node is deleted? refer above\n",
    "        #to node def\n",
    "        ret_data = self.current.data\n",
    "        \n",
    "        if self.num_data == 1:\n",
    "            self.head = None\n",
    "            self.tail = None\n",
    "            self.before = None\n",
    "            self.current = None\n",
    "        elif self.num_data > 1 and self.current == self.before:\n",
    "            #move head current before to the next one\n",
    "            self.current = self.current.next\n",
    "            self.head = self.current\n",
    "            self.before = self.current\n",
    "        else:\n",
    "            if self.num_data > 1 and self.current == self.tail:\n",
    "            #tail move back to the earlier one \n",
    "                self.tail = self.before\n",
    "            self.before.next = self.current.next\n",
    "            self.current = self.before\n",
    "        \n",
    "        self.num_data -= 1\n",
    "        return ret_data\n",
    "            \n",
    "        \n",
    "slist = LinkedList()\n",
    "slist.append(2)\n",
    "slist.append(3)\n",
    "slist.append(1)\n",
    "slist.append(5)\n",
    "slist.append(2)\n",
    "slist.append(10)\n",
    "slist.append(7)\n",
    "slist.append(2)\n",
    "\n",
    "data = slist.traverse('first')\n",
    "while data:\n",
    "    if data == 2:\n",
    "        slist.remove()\n",
    "    data = slist.traverse()\n",
    "\n",
    "data = slist.traverse('first')\n",
    "while data:\n",
    "    print(data, end = ' ')\n",
    "    data = slist.traverse()"
   ]
  },
  {
   "cell_type": "code",
   "execution_count": 3,
   "metadata": {},
   "outputs": [],
   "source": [
    "class New_LL(LinkedList):\n",
    "    def search(self, target):\n",
    "        data = self.traverse('first')\n",
    "        while data:\n",
    "            if target == data:\n",
    "                return data\n",
    "            data = self.traverse()\n",
    "        return None\n",
    "    #리스트 내의 모든 target\n",
    "    #method overriding \n",
    "    def remove(self, target):\n",
    "        data = self.traverse('first')\n",
    "        while data:\n",
    "            if data == target:\n",
    "                super().remove()\n",
    "            data = self.traverse()\n",
    "            \n",
    "            "
   ]
  },
  {
   "cell_type": "code",
   "execution_count": 4,
   "metadata": {},
   "outputs": [
    {
     "name": "stdout",
     "output_type": "stream",
     "text": [
      "3 1 5 10 7 "
     ]
    }
   ],
   "source": [
    "new_list = New_LL()\n",
    "new_list.append(3)\n",
    "new_list.append(6)\n",
    "new_list.append(7)\n",
    "new_list.append(9)\n",
    "\n",
    "new_list.search(6)\n",
    "new_list.remove(2)\n",
    "\n",
    "data = slist.traverse('first')\n",
    "while data:\n",
    "    print(data, end = ' ')\n",
    "    data = slist.traverse()\n"
   ]
  },
  {
   "cell_type": "code",
   "execution_count": null,
   "metadata": {
    "collapsed": true
   },
   "outputs": [],
   "source": []
  }
 ],
 "metadata": {
  "kernelspec": {
   "display_name": "Python 3",
   "language": "python",
   "name": "python3"
  },
  "language_info": {
   "codemirror_mode": {
    "name": "ipython",
    "version": 3
   },
   "file_extension": ".py",
   "mimetype": "text/x-python",
   "name": "python",
   "nbconvert_exporter": "python",
   "pygments_lexer": "ipython3",
   "version": "3.6.2"
  }
 },
 "nbformat": 4,
 "nbformat_minor": 2
}
