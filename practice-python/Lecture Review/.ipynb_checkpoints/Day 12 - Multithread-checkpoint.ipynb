{
 "cells": [
  {
   "cell_type": "code",
   "execution_count": 2,
   "metadata": {
    "collapsed": true
   },
   "outputs": [],
   "source": [
    "import threading\n"
   ]
  },
  {
   "cell_type": "code",
   "execution_count": 3,
   "metadata": {
    "collapsed": true
   },
   "outputs": [],
   "source": [
    "n = 100\n",
    "#li = [0, 1, 2, 3, 4...100]\n",
    "#li = [0, 2, 4, 6, 8...200]\n",
    "li = [i for i in range(0, n+1)]\n",
    "\n",
    "#single thread processing\n",
    "''' \n",
    "for i in range(n + 1):\n",
    "    li[i] = li[i] * 2\n",
    "'''\n",
    "offset = n // 4    "
   ]
  },
  {
   "cell_type": "code",
   "execution_count": 4,
   "metadata": {
    "collapsed": true
   },
   "outputs": [],
   "source": [
    "#function to be executed in the thread\n",
    "def thread_main(li, n):\n",
    "    for idx in range(offset * n + 1, offset * (n + 1) + 1):\n",
    "        li[idx] = li[idx] * 2\n"
   ]
  },
  {
   "cell_type": "code",
   "execution_count": 5,
   "metadata": {
    "collapsed": true
   },
   "outputs": [],
   "source": [
    "threads = []"
   ]
  },
  {
   "cell_type": "code",
   "execution_count": 6,
   "metadata": {},
   "outputs": [
    {
     "name": "stdout",
     "output_type": "stream",
     "text": [
      "[0, 2, 4, 6, 8, 10, 12, 14, 16, 18, 20, 22, 24, 26, 28, 30, 32, 34, 36, 38, 40, 42, 44, 46, 48, 50, 52, 54, 56, 58, 60, 62, 64, 66, 68, 70, 72, 74, 76, 78, 80, 82, 84, 86, 88, 90, 92, 94, 96, 98, 100, 102, 104, 106, 108, 110, 112, 114, 116, 118, 120, 122, 124, 126, 128, 130, 132, 134, 136, 138, 140, 142, 144, 146, 148, 150, 152, 154, 156, 158, 160, 162, 164, 166, 168, 170, 172, 174, 176, 178, 180, 182, 184, 186, 188, 190, 192, 194, 196, 198, 200]\n"
     ]
    }
   ],
   "source": [
    "for i in range(4):\n",
    "    th = threading.Thread(target = thread_main, args=(li, i))\n",
    "    threads.append(th)\n",
    "#the 4 threads are created, dividing up the target function\n",
    "\n",
    "for th in threads:\n",
    "    th.start()\n",
    "#start the process \n",
    "\n",
    "for th in threads:\n",
    "    th.join() \n",
    "\n",
    "#If the computer has two cores, then it will be able to execute multithreading. \n",
    "#Start, Ready, Running, Block all applies to threading too. \n",
    "#so the people who came up with multithreading were really excited, but it turns out that \n",
    "#it just depends on the number of cores. \n",
    "print(li)"
   ]
  },
  {
   "cell_type": "code",
   "execution_count": 7,
   "metadata": {
    "collapsed": true
   },
   "outputs": [],
   "source": [
    "import threading"
   ]
  },
  {
   "cell_type": "code",
   "execution_count": 8,
   "metadata": {
    "collapsed": true
   },
   "outputs": [],
   "source": [
    "#전역변수\n",
    "#5,000,000\n",
    "g_count = 0\n",
    "lock = threading.Lock()"
   ]
  },
  {
   "cell_type": "code",
   "execution_count": 9,
   "metadata": {
    "collapsed": true
   },
   "outputs": [],
   "source": [
    "def thread_main():\n",
    "    global g_count\n",
    "    lock.acquire()\n",
    "    for i in range(100000):\n",
    "        g_count += 1\n",
    "    lock.release()"
   ]
  },
  {
   "cell_type": "code",
   "execution_count": 10,
   "metadata": {},
   "outputs": [
    {
     "name": "stdout",
     "output_type": "stream",
     "text": [
      "g_count : 5,000,000\n"
     ]
    }
   ],
   "source": [
    "threads = []\n",
    "for i in range(50):\n",
    "    th = threading.Thread(target = thread_main)\n",
    "    threads.append(th)\n",
    "\n",
    "for th in threads:\n",
    "    th.start()\n",
    "    \n",
    "for th in threads:\n",
    "    th.join()\n",
    "\n",
    "print(\"g_count : {:,}\".format(g_count))"
   ]
  },
  {
   "cell_type": "code",
   "execution_count": 23,
   "metadata": {},
   "outputs": [
    {
     "name": "stdout",
     "output_type": "stream",
     "text": [
      "a == b or a== c : 3\n"
     ]
    },
    {
     "data": {
      "text/plain": [
       "3"
      ]
     },
     "execution_count": 23,
     "metadata": {},
     "output_type": "execute_result"
    }
   ],
   "source": [
    "def lone_sum(a, b, c):\n",
    "    sum_abc = a + b + c\n",
    "    if (a == b or a == c):\n",
    "        \n",
    "        sum_abc -= a * 2\n",
    "        print (\"a == b or a== c : {}\".format(sum_abc))\n",
    "    elif b == c:\n",
    "        print (b == c)\n",
    "        sum_abc -= b *2\n",
    "        print (\"b==c : {}\".format(sum_abc))\n",
    "    elif sum_abc < 0:\n",
    "        sum_abc = 0\n",
    "        print (sum_abc)\n",
    "        \n",
    "    return sum_abc\n",
    "\n",
    "lone_sum(3, 3, 3)"
   ]
  },
  {
   "cell_type": "code",
   "execution_count": null,
   "metadata": {
    "collapsed": true
   },
   "outputs": [],
   "source": []
  },
  {
   "cell_type": "code",
   "execution_count": 163,
   "metadata": {
    "collapsed": true
   },
   "outputs": [],
   "source": [
    "def get_available_letters(letters_guessed):\n",
    "\n",
    "    alphabets = \"abcdefghijklmnopqrstuvwxyz\"\n",
    "\n",
    "    \n",
    "    for alphabet in alphabets:\n",
    "        if alphabet in letters_guessed:\n",
    "            print (alphabet)\n",
    "            new_alphabets = alphabets.replace(alphabet, \"like\")\n",
    "            print (new_alphabets)\n",
    "        else:\n",
    "            pass\n",
    "        \n",
    "    return new_alphabets"
   ]
  },
  {
   "cell_type": "code",
   "execution_count": 164,
   "metadata": {},
   "outputs": [
    {
     "name": "stdout",
     "output_type": "stream",
     "text": [
      "e\n",
      "abcdlikefghijklmnopqrstuvwxyz\n",
      "i\n",
      "abcdefghlikejklmnopqrstuvwxyz\n",
      "k\n",
      "abcdefghijlikelmnopqrstuvwxyz\n",
      "p\n",
      "abcdefghijklmnolikeqrstuvwxyz\n",
      "r\n",
      "abcdefghijklmnopqlikestuvwxyz\n",
      "s\n",
      "abcdefghijklmnopqrliketuvwxyz\n",
      "abcdefghijklmnopqrliketuvwxyz\n"
     ]
    }
   ],
   "source": [
    "letters_guessed = ['e', 'i', 'k', 'p', 'r', 's']\n",
    "\n",
    "print (get_available_letters(letters_guessed))"
   ]
  },
  {
   "cell_type": "code",
   "execution_count": 158,
   "metadata": {},
   "outputs": [
    {
     "data": {
      "text/plain": [
       "'abcdCHANGEDfghijklmnopqrstuvwxyz'"
      ]
     },
     "execution_count": 158,
     "metadata": {},
     "output_type": "execute_result"
    }
   ],
   "source": [
    "alphabets = \"abcdefghijklmnopqrstuvwxyz\"\n",
    "alphabet = \"e\"\n",
    "alphabets.replace(alphabet, \"CHANGED\")\n",
    "    "
   ]
  },
  {
   "cell_type": "code",
   "execution_count": 171,
   "metadata": {},
   "outputs": [
    {
     "name": "stdout",
     "output_type": "stream",
     "text": [
      "졌다\n"
     ]
    }
   ],
   "source": [
    "mine = \"가위\"\n",
    "yours = \"바위\"\n",
    "\n",
    "if mine == yours:\n",
    "    print(\"비김\")\n",
    "elif ((mine == \"가위\") and (yours == \"보\")) or\\\n",
    "     (mine == \"바위\" and yours == \"가위\") or\\\n",
    "     (mine == \"보\" and yours == \"바위\"):\n",
    "     print(\"이겼다\")\n",
    "else:\n",
    "    print(\"졌다\")\n"
   ]
  },
  {
   "cell_type": "code",
   "execution_count": 172,
   "metadata": {},
   "outputs": [
    {
     "ename": "SyntaxError",
     "evalue": "invalid syntax (<ipython-input-172-3db746a0080f>, line 6)",
     "output_type": "error",
     "traceback": [
      "\u001b[0;36m  File \u001b[0;32m\"<ipython-input-172-3db746a0080f>\"\u001b[0;36m, line \u001b[0;32m6\u001b[0m\n\u001b[0;31m    def add(a, b)\u001b[0m\n\u001b[0m                 ^\u001b[0m\n\u001b[0;31mSyntaxError\u001b[0m\u001b[0;31m:\u001b[0m invalid syntax\n"
     ]
    }
   ],
   "source": [
    "a = 5\n",
    "b = 7\n",
    "\n",
    "#이 아래줄에 a와 b를 더해서 result에 저장하는 함수add를 만들어 보세요.\n",
    "\n",
    "def add(a, b)\n",
    "\tresult = a + b \n",
    "\tprint(result) \n",
    "\n",
    "add(a,b)"
   ]
  },
  {
   "cell_type": "code",
   "execution_count": null,
   "metadata": {
    "collapsed": true
   },
   "outputs": [],
   "source": []
  }
 ],
 "metadata": {
  "kernelspec": {
   "display_name": "Python 3",
   "language": "python",
   "name": "python3"
  },
  "language_info": {
   "codemirror_mode": {
    "name": "ipython",
    "version": 3
   },
   "file_extension": ".py",
   "mimetype": "text/x-python",
   "name": "python",
   "nbconvert_exporter": "python",
   "pygments_lexer": "ipython3",
   "version": "3.6.2"
  }
 },
 "nbformat": 4,
 "nbformat_minor": 2
}
