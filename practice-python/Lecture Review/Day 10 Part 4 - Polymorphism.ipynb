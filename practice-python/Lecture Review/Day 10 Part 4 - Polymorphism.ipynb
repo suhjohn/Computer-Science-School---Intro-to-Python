{
 "cells": [
  {
   "cell_type": "code",
   "execution_count": 3,
   "metadata": {},
   "outputs": [],
   "source": [
    "#abstract : 추상 클래스\n",
    "#no instance\n",
    "#At least one abstract method(pure virtual function)\n",
    "#abstract method : no defined body of the function\n",
    "#method overriding(재정의) on the child required\n",
    "from abc import *\n",
    "\n",
    "#abstract base class\n",
    "class Animal(metaclass = ABCMeta):\n",
    "    @abstractmethod\n",
    "    def say(self):\n",
    "        pass\n",
    "\n",
    "class Dog(Animal):\n",
    "    #even if we receive a method from parent, we can put the same function\n",
    "    #name to \"override\" the function\n",
    "    def say(self):\n",
    "        print('멍멍')\n",
    "        \n",
    "class Cat(Animal):\n",
    "    def say(self):\n",
    "        print('nyan nyan')\n",
    "        \n",
    "class Duck(Animal):\n",
    "    def say(self):\n",
    "        print('quack quack')\n"
   ]
  },
  {
   "cell_type": "code",
   "execution_count": 4,
   "metadata": {},
   "outputs": [],
   "source": [
    "d = Dog()"
   ]
  },
  {
   "cell_type": "code",
   "execution_count": 5,
   "metadata": {},
   "outputs": [
    {
     "name": "stdout",
     "output_type": "stream",
     "text": [
      "멍멍\n"
     ]
    }
   ],
   "source": [
    "d.say()"
   ]
  },
  {
   "cell_type": "code",
   "execution_count": 6,
   "metadata": {
    "collapsed": true
   },
   "outputs": [],
   "source": [
    "animals = []\n",
    "animals.append(Dog())\n",
    "animals.append(Cat())\n",
    "animals.append(Duck())"
   ]
  },
  {
   "cell_type": "code",
   "execution_count": 7,
   "metadata": {},
   "outputs": [
    {
     "name": "stdout",
     "output_type": "stream",
     "text": [
      "멍멍\n",
      "nyan nyan\n",
      "quack quack\n"
     ]
    }
   ],
   "source": [
    "#Polymorphism(다형성)\n",
    "#same code -> different result\n",
    "#Same name method invoked, BUT \n",
    "#the result depends on the object\n",
    "#The pinnacle of OOP\n",
    "\n",
    "for animal in animals:\n",
    "    animal.say()"
   ]
  },
  {
   "cell_type": "code",
   "execution_count": null,
   "metadata": {
    "collapsed": true
   },
   "outputs": [],
   "source": [
    "#EXAMPLE USING MMORPG GAME\n"
   ]
  },
  {
   "cell_type": "code",
   "execution_count": null,
   "metadata": {
    "collapsed": true
   },
   "outputs": [],
   "source": [
    "from abc import *\n",
    "# Common members/methods should be put in the highest class\n",
    "# Member, Method\n",
    "\n",
    "class Character(metaclass = ABCMeta):\n",
    "    def __init__(self, name, hp, power, armor):\n",
    "        self.name = name\n",
    "        self.hp = hp\n",
    "        self.power = power\n",
    "        self.armor = armor\n",
    "    \n",
    "    @abstractmethod\n",
    "    def attack(self, other, attack_kind):\n",
    "        pass\n",
    "    \n",
    "    @abstractmethod\n",
    "    def get_damage(self, power, attack_kind):\n",
    "        pass    \n",
    "\n",
    "    def __str__(self):\n",
    "        return ('{} : {}'.format(self.name, self.hp))"
   ]
  },
  {
   "cell_type": "code",
   "execution_count": null,
   "metadata": {
    "collapsed": true
   },
   "outputs": [],
   "source": [
    "class Player(Character): \n",
    "    def __init__(self, name = 'player', hp = 100, \n",
    "                 power = 20, armor = 5, *attack_kinds):\n",
    "        super().__init__(name, hp, power, armor)\n",
    "        self.skills = []\n",
    "        for attack_kind in attack_kinds:\n",
    "            self.skills.append(attack_kind)\n",
    "    \n",
    "    #message passing - interacting through the other's method\n",
    "    def attack(self, other, attack_kind):\n",
    "        if attack_kind in self.skills: \n",
    "            other.get_damage(self.power, attack_kind)\n",
    "        \n",
    "    def get_damage(self, power, attack_kind):\n",
    "        '''\n",
    "        if my skill 공격당하는 kind가 있으면 power 의 반\n",
    "        if not, power만큼 \n",
    "        '''\n",
    "        if attack_kind in self.skills:\n",
    "            self.HP -= (power//2)\n",
    "        else:\n",
    "            self.HP -= power\n",
    "        \n",
    "        \n",
    "class Monster(Character):\n",
    "    def __init__(self, name, hp, power, armor):\n",
    "        super().__init__(name, hp, power, armor)\n",
    "        self.attack_kind = None\n",
    "        \n",
    "    def attack(self, other, attack_kind):\n",
    "        if self.attack_kind == attack_kind:\n",
    "            other.get_damage(self.power, attack_kind)\n",
    "    \n",
    "    def get_damage(self, power, attack_kind):\n",
    "        if self.attack_kind == attack_kind:\n",
    "            self.hp += power/2\n",
    "        else:\n",
    "            self.hp -= power\n",
    "    \n",
    "class IceMonster(Monster):\n",
    "    def __init__(self, name = 'Ice Monster', hp = 100, \n",
    "                 power = 20, armor = 10):\n",
    "        super().__init__(name, hp, power, armor)\n",
    "        self.attack_kind = 'ICE'\n",
    "\n",
    "class FireMonster(Monster):\n",
    "    def __init__(self, name = 'Fire Monster', hp = 100, \n",
    "                 power = 15, armor = 10):\n",
    "        super().__init__(name, hp, power, armor)\n",
    "        self.attack_kind = 'FIRE'\n",
    "  \n"
   ]
  },
  {
   "cell_type": "code",
   "execution_count": null,
   "metadata": {
    "collapsed": true
   },
   "outputs": [],
   "source": [
    "player = Player('Great', 120, 30, 'ICE', \"FIRE\")"
   ]
  },
  {
   "cell_type": "code",
   "execution_count": null,
   "metadata": {
    "collapsed": true
   },
   "outputs": [],
   "source": [
    "monsters = []\n",
    "monsters.append(IceMonster())\n",
    "monsters.append(FireMonster())"
   ]
  },
  {
   "cell_type": "code",
   "execution_count": null,
   "metadata": {
    "collapsed": true
   },
   "outputs": [],
   "source": [
    "for monster in monsters:\n",
    "    player.attack(monster, 'ICE')"
   ]
  },
  {
   "cell_type": "code",
   "execution_count": null,
   "metadata": {},
   "outputs": [],
   "source": [
    "for monster in monsters:\n",
    "    print(monster)"
   ]
  },
  {
   "cell_type": "code",
   "execution_count": null,
   "metadata": {
    "collapsed": true
   },
   "outputs": [],
   "source": [
    "for monster in monsters:\n",
    "    player.attack(monster, 'ICE')"
   ]
  },
  {
   "cell_type": "code",
   "execution_count": null,
   "metadata": {},
   "outputs": [],
   "source": [
    "for monster in monsters:\n",
    "    print(monster)"
   ]
  },
  {
   "cell_type": "code",
   "execution_count": null,
   "metadata": {
    "collapsed": true
   },
   "outputs": [],
   "source": []
  },
  {
   "cell_type": "code",
   "execution_count": null,
   "metadata": {
    "collapsed": true
   },
   "outputs": [],
   "source": []
  },
  {
   "cell_type": "code",
   "execution_count": null,
   "metadata": {
    "collapsed": true
   },
   "outputs": [],
   "source": []
  },
  {
   "cell_type": "code",
   "execution_count": null,
   "metadata": {
    "collapsed": true
   },
   "outputs": [],
   "source": []
  }
 ],
 "metadata": {
  "kernelspec": {
   "display_name": "Python 3",
   "language": "python",
   "name": "python3"
  },
  "language_info": {
   "codemirror_mode": {
    "name": "ipython",
    "version": 3
   },
   "file_extension": ".py",
   "mimetype": "text/x-python",
   "name": "python",
   "nbconvert_exporter": "python",
   "pygments_lexer": "ipython3",
   "version": "3.6.2"
  }
 },
 "nbformat": 4,
 "nbformat_minor": 2
}
