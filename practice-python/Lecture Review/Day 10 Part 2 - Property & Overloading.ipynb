{
 "cells": [
  {
   "cell_type": "code",
   "execution_count": 58,
   "metadata": {
    "collapsed": true
   },
   "outputs": [],
   "source": [
    "#property\n",
    "#in an object, it seems like it is approaching a member\n",
    "#but actually approaching a method\n",
    "\n",
    "class Person:\n",
    "    def __init__(self, money):\n",
    "        self.money = money\n",
    "        \n",
    "    #getter\n",
    "    #you can take the value from setting \n",
    "    @property\n",
    "    def money(self):\n",
    "        print('getter')\n",
    "        return self.__m\n",
    "    \n",
    "    #if you want to make the instance member more complex\n",
    "    #this is what you do. \n",
    "    #Essentially, you can stop the user from submitting a crazy data \n",
    "    @money.setter\n",
    "    def money(self, money):\n",
    "        print('setter')\n",
    "        if money < 0:\n",
    "            money = 0\n",
    "        elif money > 10000:\n",
    "            money = 10000\n",
    "        #self._m is the actual instance member\n",
    "        self.__m = money\n",
    "        \n",
    "    \n",
    "    \n",
    "    #notice how the getter method and the setter method have the same name\n",
    "    #also, @property and @money.setter - "
   ]
  },
  {
   "cell_type": "code",
   "execution_count": 59,
   "metadata": {},
   "outputs": [
    {
     "name": "stdout",
     "output_type": "stream",
     "text": [
      "setter\n"
     ]
    }
   ],
   "source": [
    "p1 = Person(-5000)"
   ]
  },
  {
   "cell_type": "code",
   "execution_count": 60,
   "metadata": {},
   "outputs": [
    {
     "name": "stdout",
     "output_type": "stream",
     "text": [
      "getter\n"
     ]
    },
    {
     "data": {
      "text/plain": [
       "0"
      ]
     },
     "execution_count": 60,
     "metadata": {},
     "output_type": "execute_result"
    }
   ],
   "source": [
    "p1.money"
   ]
  },
  {
   "cell_type": "code",
   "execution_count": 61,
   "metadata": {},
   "outputs": [
    {
     "name": "stdout",
     "output_type": "stream",
     "text": [
      "getter\n"
     ]
    },
    {
     "data": {
      "text/plain": [
       "0"
      ]
     },
     "execution_count": 61,
     "metadata": {},
     "output_type": "execute_result"
    }
   ],
   "source": [
    "p1.money\n",
    "#these look like I am calling a member \"money\", \n",
    "#but I am actually calling the method \"money\""
   ]
  },
  {
   "cell_type": "code",
   "execution_count": 54,
   "metadata": {
    "collapsed": true
   },
   "outputs": [],
   "source": [
    "#Python does not support function overloading\n",
    "class Base:\n",
    "    def func(self, a):\n",
    "        print('first func')\n",
    "    def func(self, a, b):\n",
    "        print('second func')"
   ]
  },
  {
   "cell_type": "code",
   "execution_count": 34,
   "metadata": {
    "collapsed": true
   },
   "outputs": [],
   "source": [
    "a = 10\n",
    "b = Base()\n",
    "c = 12"
   ]
  },
  {
   "cell_type": "code",
   "execution_count": 35,
   "metadata": {},
   "outputs": [
    {
     "name": "stdout",
     "output_type": "stream",
     "text": [
      "second func\n"
     ]
    }
   ],
   "source": [
    "b.func(a, c)"
   ]
  },
  {
   "cell_type": "code",
   "execution_count": 36,
   "metadata": {},
   "outputs": [
    {
     "ename": "TypeError",
     "evalue": "func() missing 1 required positional argument: 'b'",
     "output_type": "error",
     "traceback": [
      "\u001b[0;31m---------------------------------------------------------------------------\u001b[0m",
      "\u001b[0;31mTypeError\u001b[0m                                 Traceback (most recent call last)",
      "\u001b[0;32m<ipython-input-36-e24f7d9c4ca3>\u001b[0m in \u001b[0;36m<module>\u001b[0;34m()\u001b[0m\n\u001b[0;32m----> 1\u001b[0;31m \u001b[0mb\u001b[0m\u001b[0;34m.\u001b[0m\u001b[0mfunc\u001b[0m\u001b[0;34m(\u001b[0m\u001b[0ma\u001b[0m\u001b[0;34m)\u001b[0m\u001b[0;34m\u001b[0m\u001b[0m\n\u001b[0m",
      "\u001b[0;31mTypeError\u001b[0m: func() missing 1 required positional argument: 'b'"
     ]
    }
   ],
   "source": [
    "b.func(a)\n",
    "#no overloading\n",
    "#What we're learning today is method overriding. \n",
    "#Python method overriding is possible, but overloading is not. "
   ]
  },
  {
   "cell_type": "code",
   "execution_count": 62,
   "metadata": {
    "collapsed": true
   },
   "outputs": [],
   "source": [
    "#Review decorator, iterator(generator), property, \"coroutine\"(one more idea)\n",
    "#closure, First-class Function \n",
    "#and last but not least, inheritance"
   ]
  },
  {
   "cell_type": "code",
   "execution_count": null,
   "metadata": {
    "collapsed": true
   },
   "outputs": [],
   "source": []
  }
 ],
 "metadata": {
  "kernelspec": {
   "display_name": "Python 3",
   "language": "python",
   "name": "python3"
  },
  "language_info": {
   "codemirror_mode": {
    "name": "ipython",
    "version": 3
   },
   "file_extension": ".py",
   "mimetype": "text/x-python",
   "name": "python",
   "nbconvert_exporter": "python",
   "pygments_lexer": "ipython3",
   "version": "3.6.2"
  }
 },
 "nbformat": 4,
 "nbformat_minor": 2
}
