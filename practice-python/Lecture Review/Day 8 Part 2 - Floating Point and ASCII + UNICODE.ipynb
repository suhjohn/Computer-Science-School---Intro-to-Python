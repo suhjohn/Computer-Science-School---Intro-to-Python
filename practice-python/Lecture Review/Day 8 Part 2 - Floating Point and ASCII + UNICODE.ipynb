{
 "cells": [
  {
   "cell_type": "code",
   "execution_count": 11,
   "metadata": {},
   "outputs": [
    {
     "name": "stdout",
     "output_type": "stream",
     "text": [
      "1.1109999999999978\n",
      "s is NOT 1.111\n"
     ]
    }
   ],
   "source": [
    "# floating point --> real number\n",
    "# 1. 표현 범위가 넓다\n",
    "# 2. 정밀도가 떨어진다\n",
    "# 3. if 문에서 == 비교하면 안된다. >, < 부등호 비교는 괜찮은데 ==은 안됨\n",
    "\n",
    "a = 0.01111\n",
    "s = 0.0\n",
    "for i in range(100):\n",
    "    s += a\n",
    "\n",
    "print(s)\n",
    "if s == 1.111:\n",
    "    print(\"s is 1.111\")\n",
    "else :\n",
    "    print(\"s is NOT 1.111\")"
   ]
  },
  {
   "cell_type": "code",
   "execution_count": 6,
   "metadata": {},
   "outputs": [
    {
     "name": "stdout",
     "output_type": "stream",
     "text": [
      "1.5625\n",
      "s is 1.5625\n"
     ]
    }
   ],
   "source": [
    "\n",
    "a = 0.015625\n",
    "s = 0.0\n",
    "for i in range(100):\n",
    "    s += a\n",
    "\n",
    "print(s)\n",
    "if s == 1.5625:\n",
    "    print(\"s is 1.5625\")\n",
    "else :\n",
    "    print(\"s is NOT 1.5625\")"
   ]
  },
  {
   "cell_type": "code",
   "execution_count": 12,
   "metadata": {},
   "outputs": [
    {
     "data": {
      "text/plain": [
       "'가'"
      ]
     },
     "execution_count": 12,
     "metadata": {},
     "output_type": "execute_result"
    }
   ],
   "source": [
    "'\\uac00'"
   ]
  },
  {
   "cell_type": "code",
   "execution_count": 13,
   "metadata": {},
   "outputs": [
    {
     "data": {
      "text/plain": [
       "'나'"
      ]
     },
     "execution_count": 13,
     "metadata": {},
     "output_type": "execute_result"
    }
   ],
   "source": [
    "'\\uB098'"
   ]
  },
  {
   "cell_type": "code",
   "execution_count": 14,
   "metadata": {},
   "outputs": [
    {
     "data": {
      "text/plain": [
       "'다'"
      ]
     },
     "execution_count": 14,
     "metadata": {},
     "output_type": "execute_result"
    }
   ],
   "source": [
    "'\\uB2e4'"
   ]
  },
  {
   "cell_type": "code",
   "execution_count": 15,
   "metadata": {},
   "outputs": [
    {
     "data": {
      "text/plain": [
       "'A'"
      ]
     },
     "execution_count": 15,
     "metadata": {},
     "output_type": "execute_result"
    }
   ],
   "source": [
    "'\\u0041'"
   ]
  },
  {
   "cell_type": "code",
   "execution_count": 25,
   "metadata": {},
   "outputs": [
    {
     "data": {
      "text/plain": [
       "4"
      ]
     },
     "execution_count": 25,
     "metadata": {},
     "output_type": "execute_result"
    }
   ],
   "source": [
    "nums = [0, 2, 4]\n",
    "max_val = max(nums[0], nums[2])\n",
    "max_val"
   ]
  },
  {
   "cell_type": "code",
   "execution_count": null,
   "metadata": {
    "collapsed": true
   },
   "outputs": [],
   "source": []
  }
 ],
 "metadata": {
  "kernelspec": {
   "display_name": "Python 3",
   "language": "python",
   "name": "python3"
  },
  "language_info": {
   "codemirror_mode": {
    "name": "ipython",
    "version": 3
   },
   "file_extension": ".py",
   "mimetype": "text/x-python",
   "name": "python",
   "nbconvert_exporter": "python",
   "pygments_lexer": "ipython3",
   "version": "3.6.2"
  }
 },
 "nbformat": 4,
 "nbformat_minor": 2
}
