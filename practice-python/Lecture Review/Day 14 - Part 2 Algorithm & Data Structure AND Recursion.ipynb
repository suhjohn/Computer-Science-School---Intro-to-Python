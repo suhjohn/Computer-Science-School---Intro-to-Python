{
 "cells": [
  {
   "cell_type": "code",
   "execution_count": 1,
   "metadata": {
    "collapsed": true
   },
   "outputs": [],
   "source": [
    "#linear search vs binary search comparisoin\n",
    "#linear search --> for\n",
    "#linear_search(data, target) ->idx\n",
    "\n",
    "def linear_search(data, target):\n",
    "    for e in data:\n",
    "        if e == target:\n",
    "            return data.index(e)\n",
    "    return None\n"
   ]
  },
  {
   "cell_type": "code",
   "execution_count": 10,
   "metadata": {},
   "outputs": [
    {
     "name": "stdout",
     "output_type": "stream",
     "text": [
      "8\n"
     ]
    }
   ],
   "source": [
    "li = [4, 2, 7, 8, 9, 10]\n",
    "idx = linear_search(li, 8)\n",
    "if idx:\n",
    "    print(li[idx])\n",
    "else:\n",
    "    print(\"no such data\")"
   ]
  },
  {
   "cell_type": "code",
   "execution_count": 45,
   "metadata": {},
   "outputs": [
    {
     "name": "stdout",
     "output_type": "stream",
     "text": [
      "4\n"
     ]
    }
   ],
   "source": [
    "def binary_search(data, target):\n",
    "    start = 0\n",
    "    end = len(data) - 1\n",
    "    while start <= end:\n",
    "        mid = (start + end) // 2\n",
    "        if target == data[mid]:\n",
    "            return mid\n",
    "        elif target < data[mid]:\n",
    "            end = mid -1\n",
    "        else:\n",
    "            start = mid + 1\n",
    "    return None\n",
    "    \n",
    "li = [1,2,3,4,5,6,7,8,9,10]\n",
    "idx = binary_search(li, 4)\n",
    "if idx:\n",
    "    print(li[idx])\n",
    "else:\n",
    "    print(\"no data\")"
   ]
  },
  {
   "cell_type": "code",
   "execution_count": 53,
   "metadata": {},
   "outputs": [
    {
     "data": {
      "text/plain": [
       "120"
      ]
     },
     "execution_count": 53,
     "metadata": {},
     "output_type": "execute_result"
    }
   ],
   "source": [
    "#recursion\n",
    "def factorial(n):\n",
    "    #탈출조건 \n",
    "    if n <= 1:\n",
    "        return n\n",
    "    return n * factorial(n - 1)\n",
    "\n",
    "factorial(5)"
   ]
  },
  {
   "cell_type": "code",
   "execution_count": 72,
   "metadata": {},
   "outputs": [
    {
     "data": {
      "text/plain": [
       "5"
      ]
     },
     "execution_count": 72,
     "metadata": {},
     "output_type": "execute_result"
    }
   ],
   "source": [
    "#1 1 2 3 5 8 13 \n",
    "def fibonacci(n):\n",
    "    if n <= 2:\n",
    "        return 1\n",
    "    return fibonacci(n-2) + fibonacci(n-1)\n",
    "\n",
    "fibonacci(5)"
   ]
  },
  {
   "cell_type": "code",
   "execution_count": 303,
   "metadata": {},
   "outputs": [
    {
     "name": "stdout",
     "output_type": "stream",
     "text": [
      "a\n",
      "a\n",
      "num == 1 A에서 C로 1번째 쟁반이 이동\n",
      "A에서 B로 2번째 쟁반이 이동\n",
      "num == 1 C에서 B로 1번째 쟁반이 이동\n",
      "A에서 C로 3번째 쟁반이 이동\n",
      "a\n",
      "num == 1 B에서 A로 1번째 쟁반이 이동\n",
      "B에서 C로 2번째 쟁반이 이동\n",
      "num == 1 A에서 C로 1번째 쟁반이 이동\n"
     ]
    }
   ],
   "source": [
    "#hanoi Tower\n",
    "def hanoi_tower(num, _from, _by, _to):\n",
    "    if num == 1:\n",
    "        print('num == 1 {}에서 {}로 {}번째 쟁반이 이동'.format(_from, _to, num))\n",
    "        return\n",
    "    \n",
    "    print('a')\n",
    "    hanoi_tower(num - 1, _from, _to, _by)\n",
    "    print('{}에서 {}로 {}번째 쟁반이 이동'.format(_from, _to, num))        \n",
    "    return hanoi_tower(num - 1, _by, _from, _to) \n",
    "\n",
    "\n",
    "hanoi_tower(3, 'A', 'B', 'C')\n",
    "    \n",
    "        #무슨수를 써도 위에 두개를 by 로 -> 무슨수를 써서 밑에를 to로 -> 무슨수를 써서 위의 by를 to로\n",
    "    #1. 반복되는 부분을 찾고 \n",
    "    #2. 패턴을 만들어라 \n",
    "    #알고리즘 연습 웹사이트 : 해커랭크\n",
    "    \n"
   ]
  },
  {
   "cell_type": "code",
   "execution_count": null,
   "metadata": {},
   "outputs": [],
   "source": [
    "def binary_search(data, target):\n",
    "    start = 0\n",
    "    end = len(data) - 1\n",
    "    while start <= end:\n",
    "        mid = (start + end) // 2\n",
    "        if target == data[mid]:\n",
    "            return mid \n",
    "        elif target <= data[mid]:\n",
    "            return end = mid - 1 \n",
    "        else:\n",
    "            return start = mid + 1\n",
    "        \n",
    "    return None\n",
    "    "
   ]
  },
  {
   "cell_type": "code",
   "execution_count": null,
   "metadata": {
    "collapsed": true
   },
   "outputs": [],
   "source": []
  },
  {
   "cell_type": "code",
   "execution_count": null,
   "metadata": {
    "collapsed": true
   },
   "outputs": [],
   "source": []
  }
 ],
 "metadata": {
  "kernelspec": {
   "display_name": "Python 3",
   "language": "python",
   "name": "python3"
  },
  "language_info": {
   "codemirror_mode": {
    "name": "ipython",
    "version": 3
   },
   "file_extension": ".py",
   "mimetype": "text/x-python",
   "name": "python",
   "nbconvert_exporter": "python",
   "pygments_lexer": "ipython3",
   "version": "3.6.2"
  }
 },
 "nbformat": 4,
 "nbformat_minor": 2
}
