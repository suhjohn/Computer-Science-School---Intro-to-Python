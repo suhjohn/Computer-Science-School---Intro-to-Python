{
 "cells": [
  {
   "cell_type": "code",
   "execution_count": null,
   "metadata": {
    "collapsed": true
   },
   "outputs": [],
   "source": [
    "if __name__ == '__main__':\n",
    "    li = [['Harsh', 20], ['Beria', 20], ['Varun', 19], ['Kakunami', 19], ['Vikas', 21]]    \n",
    "    print(\"initial list {}\".format(li))\n",
    "    \n",
    "    lowest_grade = 19\n",
    "0,1,2,3\n",
    "    for i in range(len(li) - 1):\n",
    "        if li[i][1] == lowest_grade:\n",
    "            del li[i]\n",
    "    print(li)\n",
    "  \n",
    "    second_lowest_grade = 100\n",
    "    for inner_li in li:\n",
    "        if second_lowest_grade > inner_li[1]:\n",
    "            second_lowest_grade = inner_li[1]\n",
    "            \n",
    "    second_lowest_list = []\n",
    "    for inner_li in li:\n",
    "        if inner_li[1] == second_lowest_grade:\n",
    "            second_lowest_list.append(inner_li)\n",
    "    second_lowest_list.sort()\n",
    "    \n"
   ]
  },
  {
   "cell_type": "markdown",
   "metadata": {},
   "source": [
    "import decimal\n"
   ]
  },
  {
   "cell_type": "code",
   "execution_count": null,
   "metadata": {
    "collapsed": true
   },
   "outputs": [],
   "source": [
    "import decimal\n",
    "\n",
    "d = decimal.Decimal(1.1)\n",
    "print('{:.1}'.format(d))\n",
    "print('{:.2}'.format(d))\n",
    "print('{:.3}'.format(d))"
   ]
  },
  {
   "cell_type": "code",
   "execution_count": null,
   "metadata": {
    "collapsed": true
   },
   "outputs": [],
   "source": [
    "average_mark = decimal.Decimal(float((52+56+60) / 3))\n",
    "print('{:.2}'.format(average_mark))\n"
   ]
  },
  {
   "cell_type": "code",
   "execution_count": null,
   "metadata": {
    "collapsed": true
   },
   "outputs": [],
   "source": [
    "d = decimal.Decimal(56.1)\n",
    "d"
   ]
  },
  {
   "cell_type": "code",
   "execution_count": null,
   "metadata": {
    "collapsed": true
   },
   "outputs": [],
   "source": [
    "coefficients = input().split(\" \")\n",
    "coefficients"
   ]
  },
  {
   "cell_type": "code",
   "execution_count": null,
   "metadata": {
    "collapsed": true
   },
   "outputs": [],
   "source": [
    "from numpy import *\n",
    "coefficients = input().split(\" \")\n",
    "x = input()\n",
    "print(numpy.polyval(coefficients, x))"
   ]
  },
  {
   "cell_type": "markdown",
   "metadata": {},
   "source": [
    "N, M = input().split()\n"
   ]
  },
  {
   "cell_type": "code",
   "execution_count": null,
   "metadata": {
    "collapsed": true
   },
   "outputs": [],
   "source": [
    "N, M = [int(x) for x in input().split()]\n",
    "table = [[int(x) for x in input().split()] for x in range(N)]\n",
    "K = int(input())\n",
    "print(N)\n",
    "print(M)\n",
    "print(table)\n",
    "print(K)"
   ]
  },
  {
   "cell_type": "code",
   "execution_count": null,
   "metadata": {
    "collapsed": true
   },
   "outputs": [],
   "source": [
    "a = [5, 10]\n",
    "print(a)"
   ]
  },
  {
   "cell_type": "code",
   "execution_count": null,
   "metadata": {
    "collapsed": true
   },
   "outputs": [],
   "source": [
    "# Stefan's solution\n",
    "def stefan():\n",
    "    N, M = map(int, input().split())\n",
    "    rows = [input() for _ in range(N)]\n",
    "    K = int(input())\n",
    "    for row in sorted(rows, key=lambda row: int(row.split()[K])):\n",
    "        print(row)\n",
    "\n",
    "# Sebastian's solution\n",
    "from operator import itemgetter\n",
    "def sebastian():\n",
    "    N, M = map(int, input().split())\n",
    "    lst = [[int(i) for i in input().split()] for _ in range(N)]\n",
    "    for i in sorted(lst, key=itemgetter(int(input()))):\n",
    "        print(*i)\n",
    "\n",
    "# Build test data\n",
    "n = 1000\n",
    "import random\n",
    "elements = list(map(str, range(n)))\n",
    "data = ([f'{n} {n}'] +\n",
    "        [' '.join(random.sample(elements, n))\n",
    "         for _ in range(n)] +\n",
    "        [f'{n//2}'])\n",
    "\n",
    "# Prepare timer and cheap print function\n",
    "from time import time\n",
    "realprint = print\n",
    "def print(*_):\n",
    "    pass\n",
    "\n",
    "# Test\n",
    "for _ in range(3):\n",
    "    for solution, name in (stefan, 'Stefan'), (sebastian, 'Sebastian'):\n",
    "        t0 = time()\n",
    "        for _ in range(10):\n",
    "            input = iter(data).__next__\n",
    "            solution()\n",
    "        realprint('%10s %5.3f seconds' % (name, time() - t0))"
   ]
  },
  {
   "cell_type": "code",
   "execution_count": 14,
   "metadata": {},
   "outputs": [
    {
     "name": "stdout",
     "output_type": "stream",
     "text": [
      "2 2\n",
      "4 9\n",
      "5 10\n",
      "1\n",
      "4 9\n",
      "5 10\n"
     ]
    }
   ],
   "source": [
    "N, M = list(map(int, input().split()))\n",
    "rows = [input() for _ in range(N)]\n",
    "K = int(input())\n",
    "\n",
    "# key=lambda row: int(row.split()[K]) == the value that we want it to be sorted based on == rows[row][K]\n",
    "for row in sorted(rows, key=lambda row: int(row.split()[K])):\n",
    "    print(row)"
   ]
  },
  {
   "cell_type": "code",
   "execution_count": 18,
   "metadata": {},
   "outputs": [
    {
     "ename": "AttributeError",
     "evalue": "'list' object has no attribute 'split'",
     "output_type": "error",
     "traceback": [
      "\u001b[0;31m---------------------------------------------------------------------------\u001b[0m",
      "\u001b[0;31mAttributeError\u001b[0m                            Traceback (most recent call last)",
      "\u001b[0;32m<ipython-input-18-851729c324bf>\u001b[0m in \u001b[0;36m<module>\u001b[0;34m()\u001b[0m\n\u001b[1;32m      1\u001b[0m \u001b[0mli\u001b[0m \u001b[0;34m=\u001b[0m \u001b[0;34m[\u001b[0m\u001b[0;34m[\u001b[0m\u001b[0;36m1\u001b[0m\u001b[0;34m,\u001b[0m \u001b[0;36m2\u001b[0m\u001b[0;34m]\u001b[0m\u001b[0;34m,\u001b[0m \u001b[0;34m[\u001b[0m\u001b[0;36m3\u001b[0m\u001b[0;34m,\u001b[0m \u001b[0;36m4\u001b[0m\u001b[0;34m]\u001b[0m\u001b[0;34m,\u001b[0m \u001b[0;34m[\u001b[0m\u001b[0;36m5\u001b[0m\u001b[0;34m,\u001b[0m \u001b[0;36m6\u001b[0m\u001b[0;34m]\u001b[0m\u001b[0;34m]\u001b[0m\u001b[0;34m\u001b[0m\u001b[0m\n\u001b[1;32m      2\u001b[0m \u001b[0;32mfor\u001b[0m \u001b[0minner_li\u001b[0m \u001b[0;32min\u001b[0m \u001b[0mli\u001b[0m\u001b[0;34m:\u001b[0m\u001b[0;34m\u001b[0m\u001b[0m\n\u001b[0;32m----> 3\u001b[0;31m     \u001b[0mprint\u001b[0m\u001b[0;34m(\u001b[0m\u001b[0minner_li\u001b[0m\u001b[0;34m.\u001b[0m\u001b[0msplit\u001b[0m\u001b[0;34m(\u001b[0m\u001b[0;34m)\u001b[0m\u001b[0;34m[\u001b[0m\u001b[0;36m1\u001b[0m\u001b[0;34m]\u001b[0m\u001b[0;34m)\u001b[0m\u001b[0;34m\u001b[0m\u001b[0m\n\u001b[0m",
      "\u001b[0;31mAttributeError\u001b[0m: 'list' object has no attribute 'split'"
     ]
    }
   ],
   "source": [
    "li = [[1, 2], [3, 4], [5, 6]]\n",
    "for inner_li in li:\n",
    "    print(inner_li.split()[1])\n"
   ]
  },
  {
   "cell_type": "code",
   "execution_count": 31,
   "metadata": {},
   "outputs": [
    {
     "data": {
      "text/plain": [
       "20"
      ]
     },
     "execution_count": 31,
     "metadata": {},
     "output_type": "execute_result"
    }
   ],
   "source": [
    "a = [5, 10, 20]\n",
    "a[-0-1]"
   ]
  },
  {
   "cell_type": "code",
   "execution_count": 42,
   "metadata": {},
   "outputs": [
    {
     "data": {
      "text/plain": [
       "60"
      ]
     },
     "execution_count": 42,
     "metadata": {},
     "output_type": "execute_result"
    }
   ],
   "source": [
    "a = [[0,0,3], [4,50,6], [7,8,0]]\n",
    "sum_primary_diagonal = 0\n",
    "sum_secondary_diagonal = 0\n",
    "for i in range(3):\n",
    "    sum_primary_diagonal += a[i][i]\n",
    "    sum_secondary_diagonal += a[i][(-i)-1]\n",
    "sum_secondary_diagonal\n"
   ]
  },
  {
   "cell_type": "code",
   "execution_count": null,
   "metadata": {
    "collapsed": true
   },
   "outputs": [],
   "source": []
  }
 ],
 "metadata": {
  "kernelspec": {
   "display_name": "Python 3",
   "language": "python",
   "name": "python3"
  },
  "language_info": {
   "codemirror_mode": {
    "name": "ipython",
    "version": 3
   },
   "file_extension": ".py",
   "mimetype": "text/x-python",
   "name": "python",
   "nbconvert_exporter": "python",
   "pygments_lexer": "ipython3",
   "version": "3.6.2"
  }
 },
 "nbformat": 4,
 "nbformat_minor": 2
}
