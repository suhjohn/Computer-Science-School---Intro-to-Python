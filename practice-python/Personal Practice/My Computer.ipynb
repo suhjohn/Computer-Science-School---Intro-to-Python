{
 "cells": [
  {
   "cell_type": "code",
   "execution_count": 200,
   "metadata": {},
   "outputs": [],
   "source": [
    "##computer 에 대한 클래스 \n",
    "# 3 member:data, cpu, ram - cpu will be string\n",
    "# send\n",
    "#3 methods: browse, data_receiver\n",
    "#message passing : Send my info to another computer\n",
    "#self.data\n",
    "\n",
    "class Computer:\n",
    "    \n",
    "    def __init__(self, OS, CPU):\n",
    "        self.OS = OS\n",
    "        self.CPU = CPU\n",
    "        self.sending_data = None\n",
    "        self.receiving_data = None\n",
    "        self.data = []\n",
    "        \n",
    "    def get_data_from_user(self):\n",
    "        dt = input('Type in data: ')\n",
    "        self.receiving_data = dt\n",
    "        self.save_data()\n",
    "        \n",
    "    def save_data(self):\n",
    "        self.data = self.get_receiving_data()\n",
    "        self.receiving_data = None\n",
    "    \n",
    "    #get functions\n",
    "    def get_data(self):\n",
    "        return self.data\n",
    "    \n",
    "    def get_sending_data(self):\n",
    "        return self.sending_data\n",
    "    \n",
    "    def get_receiving_data(self):\n",
    "        return self.receiving_data\n",
    "    \n",
    "    def send_data(self, other):\n",
    "        self.sending_data = self.get_data()\n",
    "        if not self.sending_data:\n",
    "            return False\n",
    "        else: \n",
    "            res = other.receive_data(self)\n",
    "            self.sending_data = None\n",
    "            return res\n",
    "            \n",
    "    def receive_data(self, other):\n",
    "        if self.receiving_data:\n",
    "            return False\n",
    "        else:\n",
    "            self.receiving_data = other.get_sending_data()\n",
    "            if self.receive_data:\n",
    "                self.data = self.get_receiving_data()\n",
    "                self.receiving_data = None\n",
    "                return True\n",
    "            else:\n",
    "                return False\n",
    "            \n",
    "    def __str__(self):\n",
    "        return '{}\\n{}\\nSending Data: {}\\nReceiving Data: {}\\nCurrent Data: {}'.format(self.OS, self.CPU, self.sending_data, self.receiving_data, self.data)\n",
    "    \n",
    "    \n",
    "    \n",
    "    \n",
    "    "
   ]
  },
  {
   "cell_type": "code",
   "execution_count": 201,
   "metadata": {},
   "outputs": [],
   "source": [
    "c1 = Computer('Windows', 'Intel')"
   ]
  },
  {
   "cell_type": "code",
   "execution_count": 202,
   "metadata": {
    "collapsed": true
   },
   "outputs": [],
   "source": [
    "c2 = Computer('Mac', 'Intel')"
   ]
  },
  {
   "cell_type": "code",
   "execution_count": 203,
   "metadata": {},
   "outputs": [
    {
     "name": "stdout",
     "output_type": "stream",
     "text": [
      "Type in data: \n"
     ]
    }
   ],
   "source": [
    "c1.get_data_from_user()"
   ]
  },
  {
   "cell_type": "code",
   "execution_count": 204,
   "metadata": {},
   "outputs": [
    {
     "name": "stdout",
     "output_type": "stream",
     "text": [
      "Windows\n",
      "Intel\n",
      "Sending Data: None\n",
      "Receiving Data: None\n",
      "Current Data: \n"
     ]
    }
   ],
   "source": [
    "print(c1)"
   ]
  },
  {
   "cell_type": "code",
   "execution_count": 205,
   "metadata": {},
   "outputs": [
    {
     "data": {
      "text/plain": [
       "False"
      ]
     },
     "execution_count": 205,
     "metadata": {},
     "output_type": "execute_result"
    }
   ],
   "source": [
    "c1.send_data(c2)"
   ]
  },
  {
   "cell_type": "code",
   "execution_count": 206,
   "metadata": {},
   "outputs": [
    {
     "name": "stdout",
     "output_type": "stream",
     "text": [
      "Windows\n",
      "Intel\n",
      "Sending Data: \n",
      "Receiving Data: None\n",
      "Current Data: \n"
     ]
    }
   ],
   "source": [
    "print(c1)"
   ]
  },
  {
   "cell_type": "code",
   "execution_count": 207,
   "metadata": {},
   "outputs": [
    {
     "name": "stdout",
     "output_type": "stream",
     "text": [
      "Mac\n",
      "Intel\n",
      "Sending Data: None\n",
      "Receiving Data: None\n",
      "Current Data: []\n"
     ]
    }
   ],
   "source": [
    "print(c2)"
   ]
  },
  {
   "cell_type": "code",
   "execution_count": 208,
   "metadata": {},
   "outputs": [
    {
     "name": "stdout",
     "output_type": "stream",
     "text": [
      "Type in data: \n"
     ]
    }
   ],
   "source": [
    "c1.get_data_from_user()"
   ]
  },
  {
   "cell_type": "code",
   "execution_count": 209,
   "metadata": {},
   "outputs": [
    {
     "name": "stdout",
     "output_type": "stream",
     "text": [
      "Windows\n",
      "Intel\n",
      "Sending Data: \n",
      "Receiving Data: None\n",
      "Current Data: \n"
     ]
    }
   ],
   "source": [
    "print(c1)"
   ]
  },
  {
   "cell_type": "code",
   "execution_count": null,
   "metadata": {
    "collapsed": true
   },
   "outputs": [],
   "source": []
  },
  {
   "cell_type": "code",
   "execution_count": null,
   "metadata": {
    "collapsed": true
   },
   "outputs": [],
   "source": []
  }
 ],
 "metadata": {
  "kernelspec": {
   "display_name": "Python 3",
   "language": "python",
   "name": "python3"
  },
  "language_info": {
   "codemirror_mode": {
    "name": "ipython",
    "version": 3
   },
   "file_extension": ".py",
   "mimetype": "text/x-python",
   "name": "python",
   "nbconvert_exporter": "python",
   "pygments_lexer": "ipython3",
   "version": "3.6.2"
  }
 },
 "nbformat": 4,
 "nbformat_minor": 2
}
