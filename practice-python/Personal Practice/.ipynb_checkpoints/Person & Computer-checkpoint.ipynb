{
 "cells": [
  {
   "cell_type": "code",
   "execution_count": 1,
   "metadata": {
    "collapsed": true
   },
   "outputs": [],
   "source": [
    "class Person:\n",
    "    #class member\n",
    "    planet = 'Earth'\n",
    "    \n",
    "    \n",
    "    #__init__ = 멤버 초기화\n",
    "    def __init__(self, name, age):\n",
    "        # instance member \n",
    "        self.name = name\n",
    "        self.age = age\n",
    "        self.nationality = None\n",
    "        self.gender = None\n",
    "    #you can make instance members in other methods, BUT put it in __init__. \n",
    "    \n",
    "    def __del__(self):\n",
    "        pass\n",
    "    \n",
    "    #instance method : the object's behavior/functionality\n",
    "    def eat(self, food):\n",
    "        print('{} eats {}'.format(self.name, food))\n",
    "    \n",
    "    def sleep(self, hour):\n",
    "        pass\n",
    "    \n",
    "    \n",
    "    "
   ]
  },
  {
   "cell_type": "code",
   "execution_count": 16,
   "metadata": {
    "collapsed": true
   },
   "outputs": [],
   "source": [
    "#computer 에 대한 클래스 \n",
    "# 3 member:data, cpu, ram - cpu will be string\n",
    "# send\n",
    "#3 methods: browse, data_receiver\n",
    "#message passing : Send my info to another computer\n",
    "#self.data\n",
    "class Computer:\n",
    "    \n",
    "    def __init__(my_computer, cpu):\n",
    "        my_computer.send_data = None\n",
    "        my_computer.receive_data = None\n",
    "        my_computer.cpu = cpu\n",
    "    \n",
    "    def get_data_from_user(my_computer):\n",
    "        s = input(\"string : \")\n",
    "        my_computer.send_data = s\n",
    "        \n",
    "    def get_send_data(my_computer):\n",
    "        return my_computer.send_data\n",
    "    \n",
    "    def get_receive_data(my_computer):\n",
    "        return my_computer.receive_data\n",
    "    \n",
    "    def message_receiver(my_computer, other_computer):\n",
    "        if my_computer.receive_data:\n",
    "            return False\n",
    "        else:\n",
    "            my_computer.receive_data = other_computer.get_send_data(other_computer)\n",
    "            if my_computer.receive_data:\n",
    "                return True\n",
    "            else:\n",
    "                return False\n",
    "        \n",
    "    def message_sender(my_computer, other_computer):\n",
    "        if not my_computer.send_data:\n",
    "            return False\n",
    "        else:\n",
    "            res = other_computer.message_receiver(my_computer)\n",
    "            self.send_data = None\n",
    "            return res\n",
    "            \n",
    "    def __str__(my_computer):\n",
    "        if not self.receive_data:\n",
    "            return \"No data\"\n",
    "        else:\n",
    "            return self.receive_data"
   ]
  },
  {
   "cell_type": "code",
   "execution_count": null,
   "metadata": {
    "collapsed": true
   },
   "outputs": [],
   "source": []
  },
  {
   "cell_type": "code",
   "execution_count": 17,
   "metadata": {
    "collapsed": true
   },
   "outputs": [],
   "source": [
    "c1 = Computer('Intel')"
   ]
  },
  {
   "cell_type": "code",
   "execution_count": 18,
   "metadata": {
    "collapsed": true
   },
   "outputs": [],
   "source": [
    "c2 = Computer('Apple')"
   ]
  },
  {
   "cell_type": "code",
   "execution_count": 19,
   "metadata": {},
   "outputs": [
    {
     "name": "stdout",
     "output_type": "stream",
     "text": [
      "string : yolop\n"
     ]
    }
   ],
   "source": [
    "c1.get_data_from_user()"
   ]
  },
  {
   "cell_type": "code",
   "execution_count": null,
   "metadata": {
    "collapsed": true
   },
   "outputs": [],
   "source": []
  },
  {
   "cell_type": "markdown",
   "metadata": {},
   "source": []
  }
 ],
 "metadata": {
  "kernelspec": {
   "display_name": "Python 3",
   "language": "python",
   "name": "python3"
  },
  "language_info": {
   "codemirror_mode": {
    "name": "ipython",
    "version": 3
   },
   "file_extension": ".py",
   "mimetype": "text/x-python",
   "name": "python",
   "nbconvert_exporter": "python",
   "pygments_lexer": "ipython3",
   "version": "3.6.2"
  }
 },
 "nbformat": 4,
 "nbformat_minor": 2
}
